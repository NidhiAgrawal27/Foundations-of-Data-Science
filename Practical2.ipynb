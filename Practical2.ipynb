{
 "cells": [
  {
   "cell_type": "markdown",
   "metadata": {},
   "source": [
    "\n",
    "# Migle  Kasetaite - Student id : 21-733-779\n",
    "\n",
    "# Nidhi Agrawal - Student id : 21-717-673\n"
   ]
  },
  {
   "cell_type": "markdown",
   "metadata": {},
   "source": [
    "# Practical 2 : Generative and Discriminative Models\n"
   ]
  },
  {
   "cell_type": "markdown",
   "metadata": {},
   "source": [
    "In this practical, we will compare the Naïve Bayes Classifier (NBC) and Logistic Regression on several\n",
    "datasets. As part of the practical you should read briefly the following paper:\n",
    "\n"
   ]
  },
  {
   "cell_type": "markdown",
   "metadata": {},
   "source": [
    "**On Discriminative vs. Generative classifiers: A comparison of logistic regression\n",
    "and naive Bayes**  \n",
    "*Andrew Y. Ng and Michael I. Jordan*  \n",
    "Advances in Neural Information Processing Systems (NIPS) 2001.\n",
    "\n",
    "The paper is available on OLAT. "
   ]
  },
  {
   "cell_type": "markdown",
   "metadata": {},
   "source": [
    "You should read the Introduction and the Experiments sections. The goal of this practical is\n",
    "to qualitatively reproduce some of the experimental results in this paper. You are strongly\n",
    "encouraged to read the rest of the paper, which is rather short and straightforward to read,\n",
    "though some of you may want to skip the formal proofs."
   ]
  },
  {
   "cell_type": "markdown",
   "metadata": {},
   "source": [
    "## Naïve Bayes Classifier (NBC)"
   ]
  },
  {
   "cell_type": "markdown",
   "metadata": {},
   "source": [
    "You should implement a Naïve Bayes Classifier from scartch using NumPy. To keep your code tidy,\n",
    "we recommend implementing it as a class. \n",
    "The classifier should be able to handle binary and continuous features. \n",
    "To earn the bonus points, the classifier should be able to handle categorical features as well. \n",
    "Suppose the data has 3\n",
    "different features, the first being binary, the second being continuous and the third being categorical. Write an implementation that you can initialise as follows:\n",
    "\n",
    "    nbc = NBC(feature_types=['b', 'r', 'c'])"
   ]
  },
  {
   "cell_type": "markdown",
   "metadata": {},
   "source": [
    "Along the lines of classifiers provided in sklearn, you want to implement two more functions,\n",
    "**fit** and **predict**. \n",
    "Recall the joint distribution of a generative model: $p(\\mathbf{x}, y \\mid \\theta, \\pi) = p(y \\mid \\pi) \\cdot p(\\mathbf{x} \\mid y, \\theta)$.\n",
    "The **fit** function is to estimate all the parameters ($\\theta$ and $\\pi$) of the NBC, i.e., train the classifier. The **predict** function is to compute the probabilities that the new input belongs to all classes and\n",
    "then return the class that has the largest probability, i.e., make the prediction.\n",
    "\n",
    "    nbc.fit(X_train, y_train)\n",
    "    ypredicted = nbc.predict(X_test)\n",
    "    test_accuracy = np.mean(ypredicted == ytest)"
   ]
  },
  {
   "cell_type": "markdown",
   "metadata": {},
   "source": [
    "Here we import the libraries. "
   ]
  },
  {
   "cell_type": "code",
   "execution_count": 1,
   "metadata": {},
   "outputs": [],
   "source": [
    "%matplotlib inline\n",
    "import pylab\n",
    "pylab.rcParams['figure.figsize'] = (10., 10.)\n",
    "\n",
    "import pickle as cp\n",
    "import matplotlib.pyplot as plt\n",
    "import numpy as np\n",
    "\n",
    "import scipy.stats as ss"
   ]
  },
  {
   "cell_type": "markdown",
   "metadata": {},
   "source": [
    "### Class-conditional distributions\n",
    "\n",
    "Before implementing NBC, we first implement the class-conditional distributions $p(\\mathbf{x} \\mid y, \\theta)$. Your implementation should have two functions: **estimate** and **get_log_probability**. \n",
    "\n",
    "- The **estimate** function takes data as input and models the data using some distribution $p(x \\mid \\theta)$, where $\\theta$ is the parameters of this distribution. The function estimates the parameters $\\theta$ using maximum likelihood estimators (MLE). \n",
    "For example, in the case of continuous features, we use the Gaussian distribution to model the data. The estimate function will find the parameters $\\mu$ and $\\sigma$ for the Gaussian distribution with respect to the input data. \n",
    "\n",
    "- The **get_log_probability** function takes as input a new data point $x_{new}$ and returns the log of $p(x_{new} \\mid \\theta)$. For the Gaussian distribution, the function get_probability will return $\\mathcal{N}(x_{new} \\mid \\mu, \\sigma)$. "
   ]
  },
  {
   "cell_type": "markdown",
   "metadata": {},
   "source": [
    "For different types of features, you need to use different distributions.\n",
    "You can import statistic libraries (e.g., `scipy.stats`) for the implementation of the distributions. \n",
    "\n",
    "- For **continuous features**: Use Gaussian distribution\n",
    "    https://docs.scipy.org/doc/scipy/reference/generated/scipy.stats.norm.html\n",
    "- For **binary features**: Use Bernoulli distribution \n",
    "    https://docs.scipy.org/doc/scipy/reference/generated/scipy.stats.bernoulli.html\n",
    "- For **categorical features**: Use Multinoulli distribution (The multinoulli distribution is a special case of the multinomial distribution, where the number of trials is 1)\n",
    "    https://docs.scipy.org/doc/scipy/reference/generated/scipy.stats.multinomial.html\n",
    "\n"
   ]
  },
  {
   "cell_type": "markdown",
   "metadata": {},
   "source": [
    "**Implementation Issues:**\n",
    "- The probabilities can be very small. To avoid underflow issues, you should compute the log of the probabilities. Read more: (Mur) Chapter 3.5.3 / Lecture Notes\n",
    "- The variance for Gaussian distributions should never be exactly 0, so in\n",
    "case your calculated variance is 0, you may want to set it to a small value such as 1e − 6. This is to ensure that your code never encounters division by zero or\n",
    "taking logarithms of 0 errors. \n",
    "For this practical, please set the small value to 1e-6.\n",
    "- Laplace/Additive smoothing: You want to ensure that the estimates for the parameter for the Bernoulli and Multinoulli random variables is never exactly 0 or 1. For this reason you should consider using Laplace smoothing (https://en.wikipedia.org/wiki/Additive_smoothing).\n",
    "For this practical, please set alpha to 1.\n",
    "- We will check the correctness of your implementation using the tests below.\n",
    "- For simplicity, you can assume the data values for binary features are integers from {0,1} and the data for a categorical feature with M categories are integers from {0, ..., M-1}.\n",
    "- Fell free to add auxiliary functions or change the parameters of the functions. If you change the parameters of the functions, make sure you change the tests accordingly, so we can test your code.\n"
   ]
  },
  {
   "cell_type": "code",
   "execution_count": 2,
   "metadata": {},
   "outputs": [],
   "source": [
    "ALPHA = 1.0 # for additive smoothing\n",
    "\n",
    "# Distribution for continuous features\n",
    "class ContFeatureParam:\n",
    "    def estimate(self, X):\n",
    "        # TODO: Estimate the parameters for the Gaussian distribution \n",
    "        # so that it best describes the input data X\n",
    "        # The code below is just for compilation. \n",
    "        # You need to replace it by your own code.\n",
    "        ###################################################\n",
    "        ##### OUR CODE STARTS HERE #######################\n",
    "        ###################################################\n",
    "        \n",
    "        # calculate the mean and standard deviation of train dataset (X)\n",
    "        self.mean, self.std = ss.norm.fit(X)\n",
    "        \n",
    "        # if standard deviation is 0, set it to e**(-6)\n",
    "        if self.std == 0: self.std = np.sqrt(np.exp(-6))\n",
    "     \n",
    "        \n",
    "        ###################################################\n",
    "        ##### OUR CODE ENDS HERE #########################\n",
    "        ###################################################\n",
    "\n",
    "    def get_log_probability(self, X_new):\n",
    "        # TODO: return the log of the density values for the input values X_new\n",
    "        # The code below is just for compilation. \n",
    "        # You need to replace it by your own code.\n",
    "        ###################################################\n",
    "        ##### OUR CODE STARTS HERE #######################\n",
    "        ###################################################\n",
    "        \n",
    "        # calculate the log of probability distribution of test dataset (X_new)\n",
    "        prob = ss.norm.logpdf(X_new, loc=self.mean, scale = self.std)\n",
    "        \n",
    "        return prob\n",
    "        \n",
    "        \n",
    "        ###################################################\n",
    "        ##### OUR CODE ENDS HERE #########################\n",
    "        ###################################################\n",
    "\n",
    "# Distribution for binary features\n",
    "class BinFeatureParam:\n",
    "    def estimate(self, X):\n",
    "        # TODO: Estimate the parameters for the Bernoulli distribution \n",
    "        # so that it best describes the input data X\n",
    "        # The code below is just for compilation. \n",
    "        # You need to replace it by your own code.\n",
    "        ###################################################\n",
    "        ##### OUR CODE STARTS HERE #######################\n",
    "        ###################################################\n",
    "        # X is a vector with binary values\n",
    "        \n",
    "        \n",
    "        # Determine classes (0,1 for binary) and number of data items in each class for train dataset (X)\n",
    "        \n",
    "        self.cat = [0, 1]\n",
    "        self.counts = [X.tolist().count(0), X.tolist().count(1)]\n",
    "\n",
    "        # Applying laplace smoothing while calculating probability for success P(1)        \n",
    "        self.p = (self.counts[1] + ALPHA)/(len(X) + (len(self.cat)*ALPHA))\n",
    "\n",
    "        \n",
    "        \n",
    "        ###################################################\n",
    "        ##### OUR CODE ENDS HERE #########################\n",
    "        ###################################################\n",
    "\n",
    "        \n",
    "    def get_log_probability(self, X_new):\n",
    "        # TODO: return the log of the probability values for the input values X_new\n",
    "        # The code below is just for compilation. \n",
    "        # You need to replace it by your own code.\n",
    "        ###################################################\n",
    "        ##### OUR CODE STARTS HERE #######################\n",
    "        ###################################################\n",
    "        \n",
    "    \n",
    "        # calculate the log of probability distribution of test dataset (X_new)    \n",
    "        self.prob = ss.bernoulli.logpmf(X_new, self.p)\n",
    "        \n",
    "        return self.prob\n",
    "    \n",
    "    \n",
    "        ###################################################\n",
    "        ##### OUR CODE ENDS HERE #########################\n",
    "        ###################################################\n",
    "\n",
    "# Distribution for categorical features\n",
    "class CatFeatureParam:\n",
    "    \n",
    "    # we need to know the number of categories for the categorical feature\n",
    "    def __init__(self, num_of_categories=0):\n",
    "        self._num_of_categories = num_of_categories\n",
    "        \n",
    "    \n",
    "    def estimate(self, X):\n",
    "        # TODO: Estimate the parameters for the Multinoulli distribution \n",
    "        # so that it best describes the input data X\n",
    "        # The code below is just for compilation. \n",
    "        # You need to replace it by your own code.\n",
    "        ###################################################\n",
    "        ##### OUR CODE STARTS HERE #######################\n",
    "        ###################################################\n",
    "        \n",
    "        \n",
    "        # initialize a dictionary\n",
    "        self.prob = {}\n",
    "\n",
    "        # Given: Data values for a categorical feature with M categories are integers from 0 to M-1\n",
    "        for cat in range (self._num_of_categories):\n",
    "            \n",
    "            # Apply laplace smoothing while calculating probability\n",
    "            self.prob[cat] = (X.tolist().count(cat) + ALPHA)/(len(X) + (self._num_of_categories*ALPHA))\n",
    "        \n",
    "        # list of all probabilities\n",
    "        self.p=list(self.prob.values())\n",
    "\n",
    "        \n",
    "        \n",
    "        ###################################################\n",
    "        ##### OUR CODE ENDS HERE #########################\n",
    "        ###################################################\n",
    "        \n",
    "    def get_log_probability(self, X_new):\n",
    "        # TODO: return the log of the probability values for the input values X_new\n",
    "        # The code below is just for compilation. \n",
    "        # You need to replace it by your own code.\n",
    "        ###################################################\n",
    "        ##### OUR CODE STARTS HERE #######################\n",
    "        ###################################################\n",
    "        \n",
    "        \n",
    "        # create a matrix of zeros\n",
    "        X_test = np.zeros((len(X_new), self._num_of_categories))\n",
    "        \n",
    "        # One hot encoding the categorical values in X_new\n",
    "        for x in range(len(X_new)): X_test[x, X_new[x]] = 1\n",
    "        \n",
    "        # calculate log of the probability values for the test dataset X_new\n",
    "        prob = ss.multinomial.logpmf(X_test.tolist(), n=len(X_new)*[1], p = self.p)\n",
    "\n",
    "        return prob\n",
    "        \n",
    "        \n",
    "        \n",
    "        ###################################################\n",
    "        ##### OUR CODE ENDS HERE #########################\n",
    "        ###################################################"
   ]
  },
  {
   "cell_type": "markdown",
   "metadata": {},
   "source": [
    "**Tests:**\n",
    "    \n",
    "We will use the code below to test the correctness of your code."
   ]
  },
  {
   "cell_type": "code",
   "execution_count": 3,
   "metadata": {},
   "outputs": [
    {
     "name": "stdout",
     "output_type": "stream",
     "text": [
      "[-5.64670664 -3.02757918 -1.44567455 -0.90099277]\n"
     ]
    }
   ],
   "source": [
    "# continuous features\n",
    "\n",
    "X = np.array([2.70508547,2.10499698,1.76019132,3.42016431,3.47037973,3.67435061,1.84749286,4.3388506,2.27818252,4.65165335])\n",
    "\n",
    "param = ContFeatureParam()\n",
    "param.estimate(X)\n",
    "probs = param.get_log_probability(np.array([0,1,2,3]))\n",
    "print(probs)"
   ]
  },
  {
   "cell_type": "code",
   "execution_count": 4,
   "metadata": {},
   "outputs": [
    {
     "name": "stdout",
     "output_type": "stream",
     "text": [
      "[-0.87546874 -0.5389965 ]\n"
     ]
    }
   ],
   "source": [
    "# binary features\n",
    "\n",
    "X = np.array([0,0,1,1,0,1,0,1,1,1])\n",
    "\n",
    "param = BinFeatureParam()\n",
    "param.estimate(X)\n",
    "probs = param.get_log_probability(np.array([0,1]))\n",
    "print(probs)"
   ]
  },
  {
   "cell_type": "code",
   "execution_count": 5,
   "metadata": {},
   "outputs": [
    {
     "name": "stdout",
     "output_type": "stream",
     "text": [
      "[-1.94591015 -2.1690537  -1.94591015 -2.45673577 -2.1690537  -2.86220088\n",
      " -1.94591015 -3.55534806 -2.1690537  -2.86220088]\n"
     ]
    }
   ],
   "source": [
    "# categorical features (bonus task)\n",
    "\n",
    "X = np.array([0,6,5,4,0,6,6,4,1,1,2,3,8,8,1,6,4,9,0,2,2,3,8,0,2])\n",
    "\n",
    "param = CatFeatureParam(num_of_categories=10)\n",
    "param.estimate(X)\n",
    "probs = param.get_log_probability(np.array([0,1,2,3,4,5,6,7,8,9]))\n",
    "print(probs)"
   ]
  },
  {
   "cell_type": "markdown",
   "metadata": {},
   "source": [
    "### Implement NBC\n",
    "\n",
    "We are now ready to implement NBC. We follow the structure of models in scikit-learn. We implement NBC as a class with functions **init**, **fit** and **predict**.\n",
    "The **init** function takes as input the types of features and initialise the classifier. The **fit** function takes the training data as input and estimates the parameters. The **predict** function predicts the label for the input data. "
   ]
  },
  {
   "cell_type": "markdown",
   "metadata": {},
   "source": [
    "**Implementation Issues:**\n",
    "- You should use matrix operations rather than loops. In general, loops over classes or features are OK, but loops over the rows of data are not a good idea.\n",
    "- The probabilities can be very small. To avoid underflow issues, you should do the calculations in log space. Read more: (Mur) Chapter 3.5.3 / Lecture Note\n",
    "- For simplicity, you can assume the data values for binary features are integers from {0, 1} and the data for a categorical feature with M categories are integers from {0, ..., M-1}.\n",
    "- Fell free to add auxiliary functions or change the parameters of the functions. If you change the parameters of the functions, make sure you change the tests accordingly, so we can test your code."
   ]
  },
  {
   "cell_type": "code",
   "execution_count": 6,
   "metadata": {},
   "outputs": [],
   "source": [
    "\n",
    "# Your task is to implement the three functions of NBC. \n",
    "\n",
    "class NBC:\n",
    "    # Inputs:\n",
    "    #   feature_types: the array of the types of the features, e.g., feature_types=['b', 'r', 'c']\n",
    "    def __init__(self, feature_types=[], yClass = np.array([]), yClass_counts = np.array([])):\n",
    "        # TODO: \n",
    "        # The code below is just for compilation. \n",
    "        # You need to replace it by your own code.\n",
    "        ###################################################\n",
    "        ##### OUR CODE STARTS HERE #######################\n",
    "        ###################################################\n",
    "        \n",
    "        self.feature_types = feature_types\n",
    "        self.prob_matrix = None\n",
    "        self.yprob = {}\n",
    "        self.yClass = yClass\n",
    "        self.yClass_counts = yClass_counts\n",
    "        \n",
    "        ###################################################\n",
    "        ##### OUR CODE ENDS HERE #########################\n",
    "        ###################################################\n",
    "\n",
    "    # The function uses the input data to estimate all the parameters of the NBC\n",
    "    def fit(self, X, y):\n",
    "        # TODO: \n",
    "        # The code below is just for compilation. \n",
    "        # You need to replace it by your own code.\n",
    "        ###################################################\n",
    "        ##### OUR CODE STARTS HERE #######################\n",
    "        ###################################################\n",
    "\n",
    "        \n",
    "        if len(self.yClass) == 0:\n",
    "            # unique classes and num of items in each class\n",
    "            self.yClass, self.yClass_counts = np.unique(y, return_counts=True)\n",
    "        \n",
    "        for i in range(len(self.yClass)):               # iteration over number of classes\n",
    "            \n",
    "            pPrior = self.yClass_counts[i]/len(y)       # calculate class prior (probability for class)\n",
    "            #self.yprob[self.yClass[i]] = np.log(pPrior) # dictionary with key as class and value as log probability of class\n",
    "            self.yprob[i] = np.log(pPrior) # dictionary with key as index of class and value as log probability of class\n",
    "            \n",
    "            \n",
    "        self.prob_matrix = np.empty(shape=(len(self.yClass), len(self.feature_types)), dtype=object)\n",
    "        \n",
    "        \n",
    "        for i, f in enumerate(self.feature_types):  # iteration over number(i) and type(f) of features\n",
    "            \n",
    "            Xc = X[:, i]                            # Xc = all rows of column (feature) i of X\n",
    "            \n",
    "            for j, y_c in enumerate(self.yClass):   # iteration over index(j) and class(y_c) of y label\n",
    "                \n",
    "                X_sample = Xc[y==y_c]               # all rows which have same index as class y_c in y\n",
    "                \n",
    "                # binary feature\n",
    "                if f == 'b':\n",
    "                    b = BinFeatureParam()\n",
    "                    b.estimate(X_sample)            # estimate parameters of feature i(column i) of X_sample\n",
    "                    self.prob_matrix[j][i] = b\n",
    "                \n",
    "                # continuous feature\n",
    "                if f == 'r':\n",
    "                    r = ContFeatureParam()\n",
    "                    r.estimate(X_sample)            # estimate parameters of feature i(column i) of X_sample\n",
    "                    self.prob_matrix[j][i] = r\n",
    "                \n",
    "                # categorical feature\n",
    "                if f == 'c':\n",
    "                    c = CatFeatureParam(num_of_categories = np.unique(Xc)[-1]+1)\n",
    "                    c.estimate(X_sample)            # estimate parameters of feature i(column i) of X_sample\n",
    "                    self.prob_matrix[j][i] = c\n",
    "         \n",
    "        \n",
    "        \n",
    "        ###################################################\n",
    "        ##### OUR CODE ENDS HERE #########################\n",
    "        ###################################################\n",
    "      \n",
    "    \n",
    "    \n",
    "    # The function takes the data X as input, and predicts the class for the data\n",
    "    def predict(self, X):\n",
    "        # TODO: \n",
    "        # The code below is just for compilation. \n",
    "        # You need to replace it by your own code.\n",
    "        ###################################################\n",
    "        ##### OUR CODE STARTS HERE #######################\n",
    "        ###################################################\n",
    "\n",
    "\n",
    "        final = np.zeros((1,len(X)))               # zero column matrix with number of rows as X\n",
    "        \n",
    "        for cl in range(len(self.yClass)):               # iteration over number of classes\n",
    "            \n",
    "            # cretae column matrix (logP) of length of X and all items with value of pi_c (class prior)\n",
    "            logP = (np.full((len(X),1), self.yprob[cl]))[:,0]  # converting to array\n",
    "            \n",
    "            # iteration over number of features\n",
    "            for f in range(len(self.feature_types)):\n",
    "                \n",
    "                # get log probability of column f in X corresponding to class cl\n",
    "                logP += self.prob_matrix[cl][f].get_log_probability(X[:,f])\n",
    "                \n",
    "            # from 2nd column (column num 1) of final: probability of X to be in a particular class\n",
    "            \n",
    "            final = np.vstack((final,np.asmatrix(logP)))\n",
    "            \n",
    "        # delete first row as it is all zeros\n",
    "        result = np.delete(final,0,0)\n",
    "        \n",
    "        yhat = self.yClass[np.argmax(result, axis=0)] # class corresponding to index of maximum value along rows\n",
    "                \n",
    "        return yhat\n",
    "\n",
    "        ###################################################\n",
    "        ##### OUR CODE ENDS HERE #########################\n",
    "        ###################################################\n",
    "        "
   ]
  },
  {
   "cell_type": "markdown",
   "metadata": {},
   "source": [
    "**Tests**\n",
    "\n",
    "We will use the code below to check your code."
   ]
  },
  {
   "cell_type": "code",
   "execution_count": 7,
   "metadata": {
    "scrolled": false
   },
   "outputs": [
    {
     "name": "stdout",
     "output_type": "stream",
     "text": [
      "Accuracy: 0.9333333333333333\n",
      "yhat:  [[2 2 2 2 2 2 2 2 2 2 2 2 2 1 1 2 2 2 2 2 2 2 2 2 2 2 2 2 2 2]]\n"
     ]
    }
   ],
   "source": [
    "# All features of the iris dataset are continuous.\n",
    "\n",
    "from sklearn.datasets import load_iris\n",
    "iris = load_iris()\n",
    "X, y = iris['data'], iris['target']\n",
    "\n",
    "N, D = X.shape\n",
    "Ntrain = int(0.8 * N)\n",
    "Xtrain = X[:Ntrain]\n",
    "ytrain = y[:Ntrain]\n",
    "Xtest = X[Ntrain:]\n",
    "ytest = y[Ntrain:]\n",
    "\n",
    "nbc_iris = NBC(feature_types=['r', 'r', 'r', 'r'])\n",
    "nbc_iris.fit(Xtrain, ytrain)\n",
    "yhat = nbc_iris.predict(Xtest)\n",
    "test_accuracy = np.mean(yhat == ytest)\n",
    "\n",
    "print(\"Accuracy:\", test_accuracy) # should be larger than 90%\n",
    "print('yhat: ', yhat)\n"
   ]
  },
  {
   "cell_type": "code",
   "execution_count": 8,
   "metadata": {
    "scrolled": true
   },
   "outputs": [
    {
     "name": "stdout",
     "output_type": "stream",
     "text": [
      "Accuracy: 0.8723404255319149\n",
      "[[1 0 1 1 0 1 1 0 0 1 1 1 0 1 1 1 1 1 0 1 1 0 1 0 0 1 1 1 0 1 1 1 0 1 0 1\n",
      "  0 0 0 1 0 0 0 0 1 1 0]]\n"
     ]
    }
   ],
   "source": [
    "# All features of this dataset are binary\n",
    "import pandas as pd\n",
    "data = pd.read_csv('data/binary_test.csv', header=None)\n",
    "data = data.to_numpy()\n",
    "\n",
    "X = data[:,1:]\n",
    "y = data[:,0]\n",
    "\n",
    "N, D = X.shape\n",
    "Ntrain = int(0.8 * N)\n",
    "Xtrain = X[:Ntrain]\n",
    "ytrain = y[:Ntrain]\n",
    "Xtest = X[Ntrain:]\n",
    "ytest = y[Ntrain:]\n",
    "\n",
    "\n",
    "nbc = NBC(feature_types=['b'] * 16)\n",
    "nbc.fit(Xtrain, ytrain)\n",
    "yhat = nbc.predict(Xtest)\n",
    "test_accuracy = np.mean(yhat == ytest)\n",
    "\n",
    "print(\"Accuracy:\", test_accuracy) # should be larger than 85%\n",
    "print(yhat)\n"
   ]
  },
  {
   "cell_type": "code",
   "execution_count": 9,
   "metadata": {
    "scrolled": true
   },
   "outputs": [
    {
     "name": "stdout",
     "output_type": "stream",
     "text": [
      "Accuracy: 0.6896551724137931\n",
      "[[0 1 0 1 1 0 1 1 0 1 0 0 1 0 1 0 0 0 0 0 0 0 1 0 0 1 1 0 1 0 1 0 0 0 0 1\n",
      "  0 1 0 0 0 0 0 0 1 0 0 0 0 0 0 0 1 0 0 0 0 0]]\n"
     ]
    }
   ],
   "source": [
    "# All features of this dataset are categorical (bonus task)\n",
    "\n",
    "data = pd.read_csv('data/categorical_test.csv', header=None)\n",
    "data = data.to_numpy()\n",
    "\n",
    "X = data[:,:-1]\n",
    "y = data[:,-1]\n",
    "\n",
    "N, D = X.shape\n",
    "Ntrain = int(0.8 * N)\n",
    "Xtrain = X[:Ntrain]\n",
    "ytrain = y[:Ntrain]\n",
    "Xtest = X[Ntrain:]\n",
    "ytest = y[Ntrain:]\n",
    "\n",
    "nbc = NBC(feature_types=['c'] * 9)\n",
    "nbc.fit(Xtrain, ytrain)\n",
    "yhat = nbc.predict(Xtest)\n",
    "test_accuracy = np.mean(yhat == ytest)\n",
    "\n",
    "print(\"Accuracy:\", test_accuracy) # should be larger than 65%\n",
    "print(yhat) \n"
   ]
  },
  {
   "cell_type": "markdown",
   "metadata": {},
   "source": [
    "## Logistic Regression"
   ]
  },
  {
   "cell_type": "markdown",
   "metadata": {},
   "source": [
    "For logistic regression, you should use the implementation in scikit-learn. Add the following\n",
    "line to import the LR model."
   ]
  },
  {
   "cell_type": "code",
   "execution_count": 10,
   "metadata": {},
   "outputs": [],
   "source": [
    "from sklearn.linear_model import LogisticRegression"
   ]
  },
  {
   "cell_type": "markdown",
   "metadata": {},
   "source": [
    "Check the scikit-learn documentation for the Logistic Regression model:\n",
    "- http://scikit-learn.org/stable/modules/linear_model.html#logistic-regression\n",
    "- http://scikit-learn.org/stable/modules/generated/sklearn.linear_model.LogisticRegression.html#sklearn.linear_model.LogisticRegression\n"
   ]
  },
  {
   "cell_type": "markdown",
   "metadata": {},
   "source": [
    "## Comparing NBC and LR"
   ]
  },
  {
   "cell_type": "markdown",
   "metadata": {},
   "source": [
    "### Experiments\n",
    "\n",
    "The experiment is to compare the classification error of the NBC and LR trained on increasingly larger training datasets. \n",
    "Since the datasets are so small, you should do this multiple times and\n",
    "average the classification error. One run should look as follows:\n",
    "- Shuffle the data, put 20% aside for testing.\n",
    "    \n",
    "    ```N, D = X.shape\n",
    "    Ntrain = int(0.8 * N)\n",
    "    shuffler = np.random.permutation(N)\n",
    "    Xtrain = X[shuffler[:Ntrain]]\n",
    "    ytrain = y[shuffler[:Ntrain]]\n",
    "    Xtest = X[shuffler[Ntrain:]]\n",
    "    ytest = y[shuffler[Ntrain:]]\n",
    "    \n",
    "    ```  \n",
    "\n",
    "\n",
    "- Train the classifiers with increasingly more data. For example, we can train classifiers with 10%, 20%, ..., 100% of the training data. For each case store the classification errors on the test set of the classifiers.\n",
    "\n",
    "You may want to repeat this with at least 200 random permutations (possibly as large as 1000)\n",
    "to average out the test error across the runs. In the end, you will get average test errors as a function of the size of the training data. \n",
    "We have written for you the function for making the plots for the experiments. "
   ]
  },
  {
   "cell_type": "code",
   "execution_count": 11,
   "metadata": {},
   "outputs": [],
   "source": [
    "# inputs:\n",
    "#   nbc: Naive Bayes Classifier\n",
    "#   lr: Logistic Regression Classifier\n",
    "#   X, y: data\n",
    "#   num_runs: we need repeat num_runs times and store average results\n",
    "#   num_splits: we want to compare the two models on increasingly larger training sets.\n",
    "#               num_splits defines the number of increasing steps. \n",
    "# outputs:\n",
    "#   the arrays of the test errors across the runs of the two classifiers \n",
    "def compareNBCvsLR(nbc, lr, X, y, num_runs=200, num_splits=10):\n",
    "    # The code below is just for compilation. \n",
    "    # You need to replace it by your own code.\n",
    "    ###################################################\n",
    "    ##### OUR CODE STARTS HERE #######################\n",
    "    ###################################################\n",
    "    \n",
    "    \n",
    "    tst_errs_nbc = []\n",
    "    tst_errs_lr = []\n",
    "    \n",
    "    # matrices to store errors of each run and increasingly large number of training sets of data\n",
    "    tst_errs_nbc_mat = np.zeros((num_runs, num_splits))\n",
    "    tst_errs_lr_mat = np.zeros_like(tst_errs_nbc_mat)\n",
    "    \n",
    "    # unique classes and num of items in each class\n",
    "    yClass, yClass_counts = np.unique(y, return_counts=True)\n",
    "    \n",
    "    n = int(0.8 * len(X))\n",
    "    np.random.seed(30)\n",
    "        \n",
    "    \n",
    "    for i in range(num_runs): # iteration over given number of runs\n",
    "        \n",
    "        # shuffle and split data into train and test\n",
    "        shuffler = np.random.permutation(len(X))\n",
    "        Xtrain = X[shuffler[:n]]\n",
    "        ytrain = y[shuffler[:n]]\n",
    "        Xtest = X[shuffler[n:]]\n",
    "        ytest = y[shuffler[n:]]\n",
    "        \n",
    "        # iteration over number of splits of data\n",
    "        for ns in range(1, num_splits+1):\n",
    "            \n",
    "            \n",
    "            train_size = int((n/num_splits) * ns)\n",
    "\n",
    "            # Get number of data items  as per train_size\n",
    "            Xtrain_split = Xtrain[:train_size,:]\n",
    "            ytrain_split = ytrain[:train_size]\n",
    "\n",
    "            \n",
    "            # checking if ytrain_split has all classes or not\n",
    "            # In case not, then reshuffle train data and get a ytrain_split that has all classes\n",
    "            while len(np.unique(ytrain_split)) != len(yClass):\n",
    "                \n",
    "                # shuffle and split data into train and test\n",
    "                shuffler = np.random.permutation(len(X))\n",
    "                Xtrain = X[shuffler]\n",
    "                ytrain = y[shuffler]\n",
    "\n",
    "                # Get number of data items  as per train_size\n",
    "                Xtrain_split = Xtrain[:train_size,:]\n",
    "                ytrain_split = ytrain[:train_size]\n",
    "    \n",
    "    \n",
    "    \n",
    "            # fit, predict and calculate error using Naive Bayes classifier model\n",
    "            nbc.fit(Xtrain_split, ytrain_split)\n",
    "            nbc_yhat = nbc.predict(Xtest)\n",
    "            errs_nbc = np.mean(nbc_yhat != ytest)\n",
    "            tst_errs_nbc_mat[i, ns-1] = errs_nbc\n",
    "\n",
    "            # fit, predict and calculate error using Logistic regression model\n",
    "            lr.fit(Xtrain_split, ytrain_split)\n",
    "            lr_yhat = lr.predict(Xtest)\n",
    "            errs_lr = np.mean(lr_yhat != ytest)\n",
    "            tst_errs_lr_mat[i, ns-1] = errs_lr\n",
    "\n",
    "                \n",
    "    \n",
    "    tst_errs_nbc = tst_errs_nbc_mat.mean(axis=0)\n",
    "    tst_errs_lr = tst_errs_lr_mat.mean(axis=0)      \n",
    "    \n",
    "    return tst_errs_nbc, tst_errs_lr\n",
    "\n",
    "\n",
    "    ###################################################\n",
    "    ##### OUR CODE ENDS HERE #########################\n",
    "    ###################################################"
   ]
  },
  {
   "cell_type": "code",
   "execution_count": 12,
   "metadata": {},
   "outputs": [],
   "source": [
    "def makePlot(nbc_perf, lr_perf, title=None, num_splits=10):\n",
    "    fig = plt.figure()\n",
    "    ax = fig.add_subplot(1, 1, 1)\n",
    "\n",
    "    ax.tick_params(axis='both', labelsize=20)\n",
    "\n",
    "    ax.set_xlabel('Percent of training data used', fontsize=20)\n",
    "    ax.set_ylabel('Classification Error', fontsize=20)\n",
    "    if title is not None: ax.set_title(title, fontsize=25)\n",
    "\n",
    "    xaxis_scale = [(i + 1) * (100/num_splits) for i in range(num_splits)]\n",
    "    plt.plot(xaxis_scale, nbc_perf, label='Naive Bayes')\n",
    "    plt.plot(xaxis_scale, lr_perf, label='Logistic Regression', linestyle='dashed')\n",
    "    \n",
    "    ax.legend(loc='upper right', fontsize=20)"
   ]
  },
  {
   "cell_type": "markdown",
   "metadata": {},
   "source": [
    "### Datasets"
   ]
  },
  {
   "cell_type": "markdown",
   "metadata": {},
   "source": [
    "Tasks: For each dataset,\n",
    "1. prepare the data for the two classifiers, e.g., handle missing values, handle text/categorical data, etc.\n",
    "2. compare the two classifiers on the dataset and generate the plots\n",
    "3. write a short report of how you prepare the data and your observations of the comparison "
   ]
  },
  {
   "cell_type": "markdown",
   "metadata": {},
   "source": [
    "**Dataset 1: Iris Dataset**\n",
    "\n",
    "https://scikit-learn.org/stable/auto_examples/datasets/plot_iris_dataset.html"
   ]
  },
  {
   "cell_type": "code",
   "execution_count": 13,
   "metadata": {
    "scrolled": false
   },
   "outputs": [
    {
     "data": {
      "image/png": "[encoded data removed]",
      "text/plain": [
       "<Figure size 720x720 with 1 Axes>"
      ]
     },
     "metadata": {
      "needs_background": "light"
     },
     "output_type": "display_data"
    }
   ],
   "source": [
    "import warnings\n",
    "warnings.filterwarnings('ignore')\n",
    "\n",
    "\n",
    "# TODO: insert your code for experiments\n",
    "###################################################\n",
    "##### OUR CODE STARTS HERE #######################\n",
    "###################################################\n",
    "\n",
    "from sklearn.datasets import load_iris\n",
    "import pandas as pd\n",
    "from sklearn.preprocessing import StandardScaler\n",
    "\n",
    "iris_data = load_iris()\n",
    "\n",
    "iris = pd.DataFrame(data=iris_data.data, columns=iris_data.feature_names)  # creating iris dataframe and assigning column names\n",
    "\n",
    "iris[\"species\"] = iris_data.target  # joining target column to the main dataframe\n",
    "\n",
    "X = iris.values[:,:-1]\n",
    "y = iris.values[:,-1]\n",
    "\n",
    "\n",
    "# unique classes and num of items in each class\n",
    "yClass, yClass_counts = np.unique(y, return_counts=True)\n",
    "\n",
    "\n",
    "nbc = NBC(feature_types=['r','r','r','r'], yClass = yClass, yClass_counts = yClass_counts)\n",
    "lr = LogisticRegression(random_state=10)\n",
    "\n",
    "tst_errs_nbc, tst_errs_lr = compareNBCvsLR(nbc, lr, X, y, num_runs=200, num_splits=10)\n",
    "\n",
    "makePlot(tst_errs_nbc, tst_errs_lr, title='Iris', num_splits=10)\n",
    "\n",
    "###################################################\n",
    "##### OUR CODE ENDS HERE #########################\n",
    "###################################################"
   ]
  },
  {
   "cell_type": "markdown",
   "metadata": {},
   "source": [
    "###  <b>Data cleaning:</b> <br>\n",
    "   For 'Iris' dataset preparation the following steps were done:<br>\n",
    "   - Dataset has been converted to the dataframe and column names have been assigned;<br>\n",
    "   - Target column has been joint to the main dataframe;<br>\n",
    "   - Feature values have been standardized by removing the mean and scaling to unit variance using inbuild sklearn funcion StandardScaler()."
   ]
  },
  {
   "cell_type": "markdown",
   "metadata": {},
   "source": [
    "### Observations"
   ]
  },
  {
   "cell_type": "markdown",
   "metadata": {},
   "source": [
    "We observe that Naive Bayes model performs better for lower dataset size (upto 27 percent of dataset size) but Logistic regression eventually catches up and overtakes Naive Bayes model performance wise (from 27 to 100 percent of dataset size). We also deduce that both models converge towards the same error, but error for Logistic regression is slightly lower than Naive Bayes. "
   ]
  },
  {
   "cell_type": "markdown",
   "metadata": {},
   "source": [
    "**Dataset 2: Voting Dataset**\n",
    "\n",
    "https://archive.ics.uci.edu/ml/datasets/congressional+voting+records\n",
    "The logistic regression line meets the naive bayes line early in the plot. To see it clearer, you should use only 100 data points from the dataset for this experiment."
   ]
  },
  {
   "cell_type": "code",
   "execution_count": 14,
   "metadata": {
    "scrolled": false
   },
   "outputs": [
    {
     "data": {
      "image/png": "[encoded data removed]",
      "text/plain": [
       "<Figure size 720x720 with 1 Axes>"
      ]
     },
     "metadata": {
      "needs_background": "light"
     },
     "output_type": "display_data"
    }
   ],
   "source": [
    "\n",
    "\n",
    "from sklearn.preprocessing import LabelEncoder\n",
    "from sklearn.naive_bayes import BernoulliNB\n",
    "\n",
    "# load the dataset\n",
    "# TODO: insert your code for experiments\n",
    "###################################################\n",
    "##### OUR CODE STARTS HERE #######################\n",
    "###################################################\n",
    "\n",
    "\n",
    "labelencoder = LabelEncoder()\n",
    "\n",
    "voting = pd.read_csv('data/voting.csv')\n",
    "voting = pd.DataFrame(voting)\n",
    "voting = voting.dropna()                #droping NaN values as we will only need to use 100 datapoints\n",
    "voting = voting.sample(n=100)           #selecting 100 random datapoints\n",
    "voting = voting.reset_index(drop=True)  #reseting indexes\n",
    "\n",
    "X = voting.drop(['label'], axis=1)      #dropping 'label' column and converting categorical feature data to binary \n",
    "X = X.apply(lambda c: c.replace(to_replace = \"y\", value = 1), axis=1)\n",
    "X = X.apply(lambda c: c.replace(to_replace = \"n\", value = 0), axis=1)\n",
    "X = X.values                            #converting dataframe to array\n",
    "\n",
    "\n",
    "y = labelencoder.fit_transform(voting['label'])\n",
    "\n",
    "# unique classes and num of items in each class\n",
    "yClass, yClass_counts = np.unique(y, return_counts=True)\n",
    "\n",
    "nbc = NBC(feature_types=['b'] * 16, yClass = yClass, yClass_counts = yClass_counts)\n",
    "lr = LogisticRegression()\n",
    "\n",
    "\n",
    "tst_errs_nbc, tst_errs_lr = compareNBCvsLR(nbc, lr, X, y, num_runs=200, num_splits=10)\n",
    "makePlot(tst_errs_nbc, tst_errs_lr, title=None, num_splits=10)\n",
    "\n",
    "\n",
    "###################################################\n",
    "##### OUR CODE ENDS HERE #########################\n",
    "###################################################"
   ]
  },
  {
   "cell_type": "markdown",
   "metadata": {},
   "source": [
    "### <b>Data cleaning</b> <p>\n",
    "   For 'Voting' dataset preparation the following steps were done:<br>\n",
    "    <li> Rows having NaN values have been dropped (as only 100 datapoints are required for training and testing the models);<br>\n",
    "    <li> 100 datapoints were randomly selected and new dataframe built out of them; <br>\n",
    "    <li> Categorical feature variables were converted into binary values, replacing 'yes' values to 1 and 'no' to 0;<br>\n",
    "    <li> Target column y values (categorical values) were converted to values 0 and 1 using LabelEncoder(). <br>\n",
    "    No scaling was required as datapoints are binary."
   ]
  },
  {
   "cell_type": "markdown",
   "metadata": {},
   "source": [
    "### Observations"
   ]
  },
  {
   "cell_type": "markdown",
   "metadata": {},
   "source": [
    "We observe that Naive Bayes model performs better for lower dataset size (for around 20 percent of dataset size) but Logistic regression performs much better than Naive Bayes model (from 20 percent of dataset size). We also deduce that the error difference between both models is noticeable and Logistic regression performs better than Naive Bayes model."
   ]
  },
  {
   "cell_type": "markdown",
   "metadata": {},
   "source": [
    "### Thank you!"
   ]
  },
  {
   "cell_type": "code",
   "execution_count": null,
   "metadata": {},
   "outputs": [],
   "source": []
  },
  {
   "cell_type": "code",
   "execution_count": null,
   "metadata": {},
   "outputs": [],
   "source": []
  }
 ],
 "metadata": {
  "kernelspec": {
   "display_name": "Python 3",
   "language": "python",
   "name": "python3"
  },
  "language_info": {
   "codemirror_mode": {
    "name": "ipython",
    "version": 3
   },
   "file_extension": ".py",
   "mimetype": "text/x-python",
   "name": "python",
   "nbconvert_exporter": "python",
   "pygments_lexer": "ipython3",
   "version": "3.8.8"
  }
 },
 "nbformat": 4,
 "nbformat_minor": 4
}
