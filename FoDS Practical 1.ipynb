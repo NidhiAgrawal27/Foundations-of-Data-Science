{
 "cells": [
  {
   "cell_type": "markdown",
   "metadata": {},
   "source": [
    "\n",
    "# Migle Kasetaite - Student id : \n",
    "\n",
    "# Nidhi Agrawal - Student id : 21-717-673\n"
   ]
  },
  {
   "cell_type": "markdown",
   "metadata": {
    "colab_type": "text",
    "id": "id1w7kwZVF3I"
   },
   "source": [
    "# Practical 1 : Implementation of Linear Regression (Ridge, Lasso)\n",
    "\n",
    "- Train a linear model\n",
    "    - using least squares method\n",
    "    - implement the model from scratch using NumPy \n",
    "    - Use learning curves plot to understand whether the linear moel is overfitting or underfitting\n",
    "- Train linear models with \n",
    "    - regularization (Ridge and Lasso)\n",
    "    - polynomial basis expansion\n",
    "    - use validation data to choose the hyperparameters\n",
    "    - scikit-learn\n",
    "    - Optional task: Use k-fold cross validation to choose the optimal hyperparameters (5 bonus points)\n",
    "\n",
    "We will use the following packages:"
   ]
  },
  {
   "cell_type": "code",
   "execution_count": 1,
   "metadata": {
    "colab": {},
    "colab_type": "code",
    "id": "CTZv9o5i4gy3"
   },
   "outputs": [],
   "source": [
    "import numpy as np\n",
    "import matplotlib.pyplot as plt\n",
    "import _pickle as cp\n",
    "\n",
    "from sklearn.linear_model import Ridge\n",
    "from sklearn.linear_model import Lasso\n",
    "from sklearn.metrics import mean_squared_error\n",
    "\n",
    "from warnings import simplefilter\n",
    "from sklearn.exceptions import ConvergenceWarning\n",
    "simplefilter(\"ignore\", category=ConvergenceWarning)\n"
   ]
  },
  {
   "cell_type": "markdown",
   "metadata": {
    "colab_type": "text",
    "id": "b1-ZQWqTVPno"
   },
   "source": [
    "We will use the winequality dataset for this practical. The dataset is available here:\n",
    "https://archive.ics.uci.edu/ml/datasets/Wine+Quality. \n",
    "In order to make it easier to import the dataset, the dataset has been converted to the numpy array format and shuffled, so that we can start the practical directly. The converted dataset is available on the OLAT page."
   ]
  },
  {
   "cell_type": "markdown",
   "metadata": {
    "colab_type": "text",
    "id": "TzDL9RQiVaPY"
   },
   "source": [
    "The dataset has two files. We’ll focus on the white wine data, which is the larger dataset. The following code loads the data:"
   ]
  },
  {
   "cell_type": "code",
   "execution_count": 2,
   "metadata": {
    "colab": {
     "base_uri": "https://localhost:8080/",
     "height": 51
    },
    "colab_type": "code",
    "executionInfo": {
     "elapsed": 1423,
     "status": "ok",
     "timestamp": 1596436129238,
     "user": {
      "displayName": "Haozhe Zhang",
      "photoUrl": "https://lh3.googleusercontent.com/a-/AOh14GhewCb1FImnjURCLugyfalL8wVXJomnuoEHUckN=s64",
      "userId": "15943369882491692800"
     },
     "user_tz": -480
    },
    "id": "NYkwbebUVO_i",
    "outputId": "80ed8916-85c3-4564-cda8-d8a8f36aaa1d"
   },
   "outputs": [
    {
     "name": "stdout",
     "output_type": "stream",
     "text": [
      "X is a (4898, 11) matrix, which contains 4898 data records and 11 features.\n",
      "y is a 4898-dimentional vector, which stores the corresponding labels of the data records in X\n"
     ]
    }
   ],
   "source": [
    "# load the white wine dataset\n",
    "# X is the feature matrix that stores the feature values of the data records\n",
    "# y is the label vector that stores the labels of the data records\n",
    "X, y = cp.load(open('winequality-white.pickle', 'rb'))\n",
    "\n",
    "# check the size of the data\n",
    "print(\"X is a {} matrix, which contains {} data records and {} features.\".format(X.shape, X.shape[0], X.shape[1]))\n",
    "print(\"y is a {}-dimentional vector, which stores the corresponding labels of the data records in X\".format(y.shape[0]))\n"
   ]
  },
  {
   "cell_type": "markdown",
   "metadata": {
    "colab_type": "text",
    "id": "CGuNg0KbWN0z"
   },
   "source": [
    "We next split the data into training data and test data. \n",
    "In practice, we should sample randomly 80% of the data as training data and the rest as the test data. . \n",
    "However, in order to get consistent results, we use the first 80% of the data as training\n",
    "data and the remaining as the test data. \n",
    "To achieve this split, we define the following function."
   ]
  },
  {
   "cell_type": "code",
   "execution_count": 3,
   "metadata": {
    "colab": {
     "base_uri": "https://localhost:8080/",
     "height": 85
    },
    "colab_type": "code",
    "executionInfo": {
     "elapsed": 1416,
     "status": "ok",
     "timestamp": 1596436129239,
     "user": {
      "displayName": "Haozhe Zhang",
      "photoUrl": "https://lh3.googleusercontent.com/a-/AOh14GhewCb1FImnjURCLugyfalL8wVXJomnuoEHUckN=s64",
      "userId": "15943369882491692800"
     },
     "user_tz": -480
    },
    "id": "6ZqbBa8bWNYg",
    "outputId": "da274c4e-c3ed-4ac0-8442-27befcf26f4c"
   },
   "outputs": [
    {
     "name": "stdout",
     "output_type": "stream",
     "text": [
      "Shape of X_train: (3918, 11)\n",
      "Shape of y_train: (3918,)\n",
      "Shape of X_test: (980, 11)\n",
      "Shape of y_test: (980,)\n"
     ]
    }
   ],
   "source": [
    "# The function splits the dataset into training data and testing data.\n",
    "# The parameter split_coeff is a percentage value such that\n",
    "# the first split_coeff of the dataset goes to the training dataset \n",
    "# and the remaining data goes to the test dataset.\n",
    "def split_data(X, y, split_coeff):\n",
    "    N, _ = X.shape # get the number of records (rows)\n",
    "    train_size = int(split_coeff * N) # use the first split_coeff of the data as the training data\n",
    "    X_train = X[:train_size] # the first training_size records\n",
    "    y_train = y[:train_size]\n",
    "    X_test = X[train_size:] # the last test_size records\n",
    "    y_test = y[train_size:]\n",
    "    return X_train, y_train, X_test, y_test\n",
    "\n",
    "X_train, y_train, X_test, y_test = split_data(X, y, 0.8) # split the data with split_coeff=0.8\n",
    "\n",
    "# check the size of the splitted dataset\n",
    "print(\"Shape of X_train:\", X_train.shape)\n",
    "print(\"Shape of y_train:\", y_train.shape)\n",
    "print(\"Shape of X_test:\", X_test.shape)\n",
    "print(\"Shape of y_test:\", y_test.shape)"
   ]
  },
  {
   "cell_type": "markdown",
   "metadata": {
    "colab_type": "text",
    "id": "q2yKNR49Wkn8"
   },
   "source": [
    "## Understanding What We’re Predicting\n",
    "\n",
    "Let’s first check\n",
    "the distribution of the y-values in the training data. \n",
    "You will find that the values are integers between 3 and 9 indicating the quality of the wine.\n"
   ]
  },
  {
   "cell_type": "markdown",
   "metadata": {
    "colab_type": "text",
    "id": "-PMpsZNSWthB"
   },
   "source": [
    "### **Task 1**\n",
    "Make a bar chart showing the distribution of y-values in the training data. You will find that the y-values are integers from 3 to 9, which indicate the quality of the wines."
   ]
  },
  {
   "cell_type": "code",
   "execution_count": 4,
   "metadata": {},
   "outputs": [
    {
     "data": {
      "image/png": "[encoded data removed]",
      "text/plain": [
       "<Figure size 432x288 with 1 Axes>"
      ]
     },
     "metadata": {
      "needs_background": "light"
     },
     "output_type": "display_data"
    }
   ],
   "source": [
    "#@title\n",
    "# Task 1: \n",
    "# the function takes the y-values in the training data as the input and makes the bar chart. \n",
    "# Hint: Your function should make a bar chart looks like the bar chart below.\n",
    "def plot_bar_chart_score(y_train):\n",
    "    \n",
    "    ###################################################\n",
    "    ##### OUR CODE STARTS HERE #######################\n",
    "    ###################################################\n",
    "    \n",
    "    score, num_wines = np.unique(y_train, return_counts=True)\n",
    "    plt.bar(score, num_wines)                        # Plot a bar graph of values in y_train\n",
    "    plt.xlabel(\"Score\")                              # Set label for x axis\n",
    "    plt.ylabel(\"Number of wines\")                    # Set label for y axis\n",
    "    plt.show()                                       # Display plot\n",
    "    \n",
    "    \n",
    "    ###################################################\n",
    "    ##### OUR CODE ENDS HERE #######################\n",
    "    ###################################################\n",
    "    \n",
    "\n",
    "plot_bar_chart_score(y_train)\n"
   ]
  },
  {
   "cell_type": "markdown",
   "metadata": {
    "colab_type": "text",
    "id": "GxjlElni2FcH"
   },
   "source": [
    "### **Task 2** \n",
    "This task is to build a trivial predictor, which always returns the mean of the y-values of the training data. We consider the trivial model as a baseline. The linear regression models we build later should perform better than this trivial model. "
   ]
  },
  {
   "cell_type": "code",
   "execution_count": 5,
   "metadata": {
    "colab": {
     "base_uri": "https://localhost:8080/",
     "height": 34
    },
    "colab_type": "code",
    "executionInfo": {
     "elapsed": 1402,
     "status": "ok",
     "timestamp": 1596436129240,
     "user": {
      "displayName": "Haozhe Zhang",
      "photoUrl": "https://lh3.googleusercontent.com/a-/AOh14GhewCb1FImnjURCLugyfalL8wVXJomnuoEHUckN=s64",
      "userId": "15943369882491692800"
     },
     "user_tz": -480
    },
    "id": "-V3xFYexX1lt",
    "outputId": "5e57738e-87d5-408c-f1bf-9df66a175f35"
   },
   "outputs": [
    {
     "name": "stdout",
     "output_type": "stream",
     "text": [
      "Average of y on the training label values is 5.878764675855028\n"
     ]
    }
   ],
   "source": [
    "#@title\n",
    "# Task 2: implement the trivial predictor\n",
    "# The function computes the average value of y on the training label values\n",
    "def compute_average(y_train):\n",
    "    \n",
    "    \n",
    "    \n",
    "    ###################################################\n",
    "    ##### OUR CODE STARTS HERE #######################\n",
    "    ###################################################\n",
    "    \n",
    "    avg = np.mean(y_train)     # Calculate the mean of values in y_train\n",
    "    return avg\n",
    "    \n",
    "    ###################################################\n",
    "    ##### OUR CODE ENDS HERE #######################\n",
    "    ###################################################\n",
    "    \n",
    "    \n",
    "    \n",
    "y_train_avg = compute_average(y_train)\n",
    "print(\"Average of y on the training label values is {}\".format(y_train_avg))\n",
    "\n",
    "# The trivial predictor returns the average value.\n",
    "def trivial_predictor(X_test, y_train_avg):\n",
    "  return y_train_avg\n"
   ]
  },
  {
   "cell_type": "markdown",
   "metadata": {
    "colab_type": "text",
    "id": "x531Q_SxXV14"
   },
   "source": [
    "### **Task 3**\n",
    "We next evaluate the trivial predictor on the training data and test data. \n",
    "We use mean squared error (MSE) to measure the performance of the predictor.\n",
    "The task is to implement a function that reports the mean squared error of the given predictor on the given data. "
   ]
  },
  {
   "cell_type": "code",
   "execution_count": 6,
   "metadata": {
    "colab": {
     "base_uri": "https://localhost:8080/",
     "height": 102
    },
    "colab_type": "code",
    "executionInfo": {
     "elapsed": 1394,
     "status": "ok",
     "timestamp": 1596436129240,
     "user": {
      "displayName": "Haozhe Zhang",
      "photoUrl": "https://lh3.googleusercontent.com/a-/AOh14GhewCb1FImnjURCLugyfalL8wVXJomnuoEHUckN=s64",
      "userId": "15943369882491692800"
     },
     "user_tz": -480
    },
    "id": "mV8l6Ci9YlgL",
    "outputId": "f57858dc-d0fc-40fe-dbf7-c652d2f8fddb"
   },
   "outputs": [
    {
     "name": "stdout",
     "output_type": "stream",
     "text": [
      "Trivial Predictor\n",
      "--------------------------------------------------------------------------------\n",
      "\n",
      "MSE (Training) = 0.7768\n",
      "MSE (Testing)  = 0.8139\n"
     ]
    }
   ],
   "source": [
    "# We next test our trivial predictor on the training data and test data. \n",
    "# Implement a function that can report the mean squared error \n",
    "# of a predictor on the given data\n",
    "# Input: data and predictor\n",
    "# Output: mean squared error of the predictor on the given data\n",
    "def test_predictor(X, y, predictor: callable=None):\n",
    "    # Apply the predictor to each row of the matrix X to get the predictions\n",
    "    \n",
    "    y_predicted = np.apply_along_axis(predictor, 1, X)\n",
    "    \n",
    "   \n",
    "\n",
    "\n",
    "    ###################################################\n",
    "    ##### OUR CODE STARTS HERE #######################\n",
    "    ###################################################\n",
    "    \n",
    "    sse = (y-y_predicted)**2      # calculate sum of squared error(sse): square of(actual value - predicted value)\n",
    "    mse = np.mean(sse)            # calculate mean squared error(mse): mean of sse\n",
    "    \n",
    "    \n",
    "    ###################################################\n",
    "    ##### OUR CODE ENDS HERE #######################\n",
    "    ###################################################\n",
    "    \n",
    "    \n",
    "    \n",
    "    \n",
    "    return mse\n",
    "\n",
    "# use the function test_predictor to test the trivial predictor\n",
    "# we use the lambda function here to pass the function trivial predictor to the function test_predictor.\n",
    "mse_trivial_predictor_train = test_predictor(X_train, y_train, lambda x: trivial_predictor(x, y_train_avg))\n",
    "mse_trivial_predictor_test = test_predictor(X_test, y_test, lambda x: trivial_predictor(x, y_train_avg))\n",
    "\n",
    "# Report the result\n",
    "print('Trivial Predictor')\n",
    "print('--------------------------------------------------------------------------------\\n')\n",
    "print('MSE (Training) = %.4f' % mse_trivial_predictor_train)\n",
    "print('MSE (Testing)  = %.4f' % mse_trivial_predictor_test)"
   ]
  },
  {
   "cell_type": "markdown",
   "metadata": {
    "colab_type": "text",
    "id": "geiyM1Nea0az"
   },
   "source": [
    "## Train the Linear Model Using Least Squares Method\n",
    "\n",
    "Let us train a linear model on the training data and then check its MSE. \n",
    "We use the closed form solution of the least squares estimate to get the parameters of the linear model. \n",
    "The linear model should perform better than the trivial predictor."
   ]
  },
  {
   "cell_type": "markdown",
   "metadata": {
    "colab_type": "text",
    "id": "WSEwFGp_bqAI"
   },
   "source": [
    "### **Task 4**\n",
    "Before training the model, we need to standardize the data, i.e., transform the data so that every feature has mean 0 and variance 1. \n",
    "\n",
    "https://en.wikipedia.org/wiki/Standard_score\n",
    "\n",
    "We first standardize the training data. \n",
    "Then we apply the same transformation to the test data, i.e. standardize the test data using the means and the standard deviations of the training data. "
   ]
  },
  {
   "cell_type": "code",
   "execution_count": 7,
   "metadata": {
    "colab": {
     "base_uri": "https://localhost:8080/",
     "height": 68
    },
    "colab_type": "code",
    "executionInfo": {
     "elapsed": 1387,
     "status": "ok",
     "timestamp": 1596436129241,
     "user": {
      "displayName": "Haozhe Zhang",
      "photoUrl": "https://lh3.googleusercontent.com/a-/AOh14GhewCb1FImnjURCLugyfalL8wVXJomnuoEHUckN=s64",
      "userId": "15943369882491692800"
     },
     "user_tz": -480
    },
    "id": "trjwkcgybhDH",
    "outputId": "d87a4635-354f-47e2-947a-e843f027e4cb"
   },
   "outputs": [
    {
     "name": "stdout",
     "output_type": "stream",
     "text": [
      "X_train_std: (3918, 11)\n",
      "Mean: [6.85427514e+00 2.78390761e-01 3.34892802e-01 6.42623788e+00\n",
      " 4.58213374e-02 3.53263144e+01 1.38513272e+02 9.94040729e-01\n",
      " 3.18647524e+00 4.89055641e-01 1.05115799e+01]\n",
      "Standard deviation: [8.39100902e-01 9.95630176e-02 1.24249975e-01 5.06377532e+00\n",
      " 2.16660282e-02 1.71004677e+01 4.23956179e+01 2.97972269e-03\n",
      " 1.49949475e-01 1.12992053e-01 1.22536544e+00]\n"
     ]
    }
   ],
   "source": [
    "# The task is to implement a function that can standardize the data and returns the mean and std of the data.\n",
    "# Input: training data\n",
    "# Output: standardize training data, standard deviations and means\n",
    "def standardize_data(X):\n",
    "    \n",
    "    \n",
    "    # TODO: compute the means and standard deviations of the data, and standardize the data\n",
    "    # The code below is just for compilation. \n",
    "    # You need to replace it by your own code.\n",
    "    \n",
    "    \n",
    "    \n",
    "    ###################################################\n",
    "    ##### OUR CODE STARTS HERE #######################\n",
    "    ###################################################\n",
    "    \n",
    "    std = np.std(X, axis = 0)        # standard deviation of X column wise\n",
    "    mean = np.mean(X, axis=0)        # calculate mean of X column wise\n",
    "    X_std = (X - mean)/std           # standardize matrix X elements\n",
    "\n",
    "    ###################################################\n",
    "    ##### OUR CODE ENDS HERE #######################\n",
    "    ###################################################\n",
    "    \n",
    "    \n",
    "    \n",
    "    return X_std, mean, std\n",
    "\n",
    "\n",
    "# Standardize the training data and store the means and the stds \n",
    "X_train_std, X_train_mean, X_train_std_div = standardize_data(X_train)\n",
    "print(\"X_train_std:\", X_train_std.shape)\n",
    "print(\"Mean:\", X_train_mean)\n",
    "print(\"Standard deviation:\", X_train_std_div)"
   ]
  },
  {
   "cell_type": "code",
   "execution_count": 8,
   "metadata": {
    "colab": {
     "base_uri": "https://localhost:8080/",
     "height": 102
    },
    "colab_type": "code",
    "executionInfo": {
     "elapsed": 1380,
     "status": "ok",
     "timestamp": 1596436129242,
     "user": {
      "displayName": "Haozhe Zhang",
      "photoUrl": "https://lh3.googleusercontent.com/a-/AOh14GhewCb1FImnjURCLugyfalL8wVXJomnuoEHUckN=s64",
      "userId": "15943369882491692800"
     },
     "user_tz": -480
    },
    "id": "RjzbA5JpM759",
    "outputId": "ff594788-2fdd-419c-98fa-beac6a53cfc9"
   },
   "outputs": [
    {
     "name": "stdout",
     "output_type": "stream",
     "text": [
      "(980, 11)\n"
     ]
    }
   ],
   "source": [
    "# TODO: Standardize the test data using the means and standrad deviations of the training data\n",
    "\n",
    "\n",
    "###################################################\n",
    "##### OUR CODE STARTS HERE #######################\n",
    "###################################################\n",
    "    \n",
    "X_test_std = (X_test - X_train_mean)/X_train_std_div\n",
    "print(X_test_std.shape)\n",
    "\n",
    "###################################################\n",
    "##### OUR CODE ENDS HERE #######################\n",
    "###################################################\n",
    "\n"
   ]
  },
  {
   "cell_type": "markdown",
   "metadata": {
    "colab_type": "text",
    "id": "cRPPA6HMbNOr"
   },
   "source": [
    "### **Task 5**\n",
    "We have standardized X-values. Do we need to standardize the y-values? Why?"
   ]
  },
  {
   "cell_type": "markdown",
   "metadata": {
    "colab_type": "text",
    "id": "9he5QMmfqL3_"
   },
   "source": [
    "### ############################################\n",
    "\n",
    "Matrix X can have some features with very high or low values in comparison to other features. We standardize the X-values so that vast difference in feature values do not impact the predictions. \n",
    "\n",
    "We do not need to standardize the y-values as it is contains only labels and will not affect our model.\n",
    "\n",
    "### ############################################"
   ]
  },
  {
   "cell_type": "markdown",
   "metadata": {
    "colab_type": "text",
    "id": "vT4_Sl42bxmD"
   },
   "source": [
    "### **Task 6**\n",
    "Let's now train the linear model using the least-squares method. \n",
    "We need to add the bias term to the matrix X. "
   ]
  },
  {
   "cell_type": "code",
   "execution_count": 9,
   "metadata": {
    "colab": {
     "base_uri": "https://localhost:8080/",
     "height": 34
    },
    "colab_type": "code",
    "executionInfo": {
     "elapsed": 1374,
     "status": "ok",
     "timestamp": 1596436129242,
     "user": {
      "displayName": "Haozhe Zhang",
      "photoUrl": "https://lh3.googleusercontent.com/a-/AOh14GhewCb1FImnjURCLugyfalL8wVXJomnuoEHUckN=s64",
      "userId": "15943369882491692800"
     },
     "user_tz": -480
    },
    "id": "A4JtLr6pdJV7",
    "outputId": "dfd57312-284f-4ce9-820b-4fdbdfbec8c4"
   },
   "outputs": [
    {
     "name": "stdout",
     "output_type": "stream",
     "text": [
      "w: (12,)\n"
     ]
    }
   ],
   "source": [
    "# The task is to implement the function that adds a column of ones to the front of the input matrix\n",
    "def expand_with_ones(X):\n",
    "    # TODO: add a column of ones to the front of the input matrix\n",
    "    # The code below is just for compilation. \n",
    "    # You need to replace it by your own code.\n",
    "    \n",
    "    \n",
    "    ###################################################\n",
    "    ##### OUR CODE STARTS HERE #######################\n",
    "    ###################################################\n",
    "    \n",
    "    \n",
    "    rows_num = X.shape[0]                                # get number of rows in matrix X\n",
    "    ones_matrix = np.ones((rows_num, 1),  dtype = int)   # create a column matrix of ones\n",
    "    X_out = np.hstack((ones_matrix, X))                  # adding the column of ones to the front of the matrix X\n",
    "    \n",
    "    return X_out\n",
    "    \n",
    "    \n",
    "    ###################################################\n",
    "    ##### OUR CODE ENDS HERE #######################\n",
    "    ###################################################\n",
    "    \n",
    "    \n",
    "    \n",
    "\n",
    "# Train the linear model using the least-squares method\n",
    "# The task is to implement the function that computes the parameters\n",
    "def least_squares_compute_parameters(X_input, y):\n",
    "    # add the bias column to the data\n",
    "    X = expand_with_ones(X_input)\n",
    "    \n",
    "    \n",
    "    # TODO: compute the parameters based on the expanded X and y using the least-squares method\n",
    "    # The code below is just for compilation. \n",
    "    # You need to replace it by your own code.\n",
    "   \n",
    "\n",
    "    \n",
    "    ###################################################\n",
    "    ##### OUR CODE STARTS HERE #######################\n",
    "    ###################################################\n",
    "    \n",
    "    w = ((np.linalg.inv((X.T).dot(X))).dot(X.T)).dot(y) # compute parameters\n",
    "    \n",
    "    # w_new = np.linalg.lstsq(X, y, rcond = None)[0]   # same as above line of code in numpy\n",
    "    \n",
    "    return w\n",
    "\n",
    "    ###################################################\n",
    "    ##### OUR CODE ENDS HERE #######################\n",
    "    ###################################################\n",
    "   \n",
    "\n",
    "    \n",
    "    \n",
    "# Apply the function to train the linear model\n",
    "w = least_squares_compute_parameters(X_train_std, y_train) \n",
    "print(\"w:\", w.shape)"
   ]
  },
  {
   "cell_type": "markdown",
   "metadata": {
    "colab_type": "text",
    "id": "lasj_1PpeZib"
   },
   "source": [
    "After computing the parameters,\n",
    "we can build the linear model predictor.\n",
    "The predictor takes as input the computed parameters and the data, and predicts the labels for the input data."
   ]
  },
  {
   "cell_type": "code",
   "execution_count": 10,
   "metadata": {
    "colab": {},
    "colab_type": "code",
    "id": "Lb-hNagxc3Wj"
   },
   "outputs": [],
   "source": [
    "# Implement the linear model predictor\n",
    "# Input: test data and parameters\n",
    "# Output: predicted values\n",
    "def linear_model_predictor(X, w):\n",
    "    \n",
    "    # TODO: predict the labels for the input data\n",
    "    # The code below is just for compilation. \n",
    "    # You need to replace it by your own code.\n",
    "    \n",
    "    \n",
    "    ###################################################\n",
    "    ##### OUR CODE STARTS HERE #######################\n",
    "    ###################################################\n",
    "    \n",
    "    y = X.dot(w)  # predicting values\n",
    "    \n",
    "    return y\n",
    "    \n",
    "    ###################################################\n",
    "    ##### OUR CODE ENDS HERE #########################\n",
    "    ###################################################\n"
   ]
  },
  {
   "cell_type": "markdown",
   "metadata": {
    "colab_type": "text",
    "id": "cFOYpwbufz7J"
   },
   "source": [
    "We can now evaluate our linear model predictor on the test data. "
   ]
  },
  {
   "cell_type": "code",
   "execution_count": 11,
   "metadata": {
    "colab": {
     "base_uri": "https://localhost:8080/",
     "height": 34
    },
    "colab_type": "code",
    "executionInfo": {
     "elapsed": 1363,
     "status": "ok",
     "timestamp": 1596436129243,
     "user": {
      "displayName": "Haozhe Zhang",
      "photoUrl": "https://lh3.googleusercontent.com/a-/AOh14GhewCb1FImnjURCLugyfalL8wVXJomnuoEHUckN=s64",
      "userId": "15943369882491692800"
     },
     "user_tz": -480
    },
    "id": "LuHHmn2RB55j",
    "outputId": "b6cb4556-2618-419a-a082-214f2e6ecb5e"
   },
   "outputs": [
    {
     "name": "stdout",
     "output_type": "stream",
     "text": [
      "Mean squared error is 0.5607292042283469\n"
     ]
    }
   ],
   "source": [
    "# use the function test_predictor to evaluate the linear model predictor\n",
    "mse_linear_model_predictor = test_predictor(expand_with_ones(X_test_std), y_test, lambda x: linear_model_predictor(x, w))\n",
    "print(\"Mean squared error is {}\".format(mse_linear_model_predictor))"
   ]
  },
  {
   "cell_type": "markdown",
   "metadata": {
    "colab_type": "text",
    "id": "zqj4HKAihF7Q"
   },
   "source": [
    "## Learning Curves\n",
    "\n",
    "Let us check if the linear model is overfitting or underfitting. Since the dataset is somewhat large and there are only 11 features, the model shouldn't be overfitting. \n",
    "To check it, we need to check the learning curves, i.e. how the performance of the model changes when it is trained with increasingly more data. \n",
    "We train the model on the increasingly more data ([20, 40, ..., 600] data records), and evaluate the model by computing the MSE of the model on both the training data and the test data. \n",
    "We use the collected MSE to build the learning curves plot. "
   ]
  },
  {
   "cell_type": "markdown",
   "metadata": {
    "colab_type": "text",
    "id": "MNf11kurCgKF"
   },
   "source": [
    "### **Task 7** \n",
    "\n",
    "Let's first implement a function that comprises what we have implemented above. \n",
    "The function takes as inputs the data and the split coefficient, and\n",
    "1. standardizes the data,\n",
    "2. trains the linear model, and\n",
    "3. reports the mse of the linear model predictor on both training and test datasets. "
   ]
  },
  {
   "cell_type": "code",
   "execution_count": 12,
   "metadata": {
    "colab": {
     "base_uri": "https://localhost:8080/",
     "height": 102
    },
    "colab_type": "code",
    "executionInfo": {
     "elapsed": 1355,
     "status": "ok",
     "timestamp": 1596436129244,
     "user": {
      "displayName": "Haozhe Zhang",
      "photoUrl": "https://lh3.googleusercontent.com/a-/AOh14GhewCb1FImnjURCLugyfalL8wVXJomnuoEHUckN=s64",
      "userId": "15943369882491692800"
     },
     "user_tz": -480
    },
    "id": "UcGRQBrEb106",
    "outputId": "179c5ec0-ee87-4c4b-a02b-d97d55862e1f"
   },
   "outputs": [
    {
     "name": "stdout",
     "output_type": "stream",
     "text": [
      "Linear Model\n",
      "-----------------------\n",
      "\n",
      "MSE (Training) = 0.5640\n",
      "MSE (Testing)  = 0.5607\n"
     ]
    }
   ],
   "source": [
    "# Input: training data and test data\n",
    "# Output: mse of the linear model predictor on both the training and test data\n",
    "def train_and_test(X_train, y_train, X_test, y_test):\n",
    "    # TODO: implement the function \n",
    "    # The code below is just for compilation. \n",
    "    # You need to replace it by your own code.\n",
    "    # Hints: use the functions you have implemented\n",
    "    \n",
    "    \n",
    "    ###################################################\n",
    "    ##### OUR CODE STARTS HERE #######################\n",
    "    ###################################################\n",
    "    \n",
    "    \n",
    "    X_train_std, X_train_mean, X_train_std_div = standardize_data(X_train)  # standardize X_train values\n",
    "    \n",
    "    \n",
    "    # Standardize the test data using the means and standrad deviations of the training data\n",
    "    X_test_std = (X_test - X_train_mean)/X_train_std_div\n",
    "\n",
    "    \n",
    "    W = least_squares_compute_parameters(X_train_std, y_train)   # compute parameters from training dataset\n",
    "    \n",
    "    \n",
    "    # use the function test_predictor to evaluate the linear model predictor for training dataset\n",
    "    mse_train = test_predictor(expand_with_ones(X_train_std), y_train, \n",
    "                               lambda x: linear_model_predictor(expand_with_ones(X_train_std), W))\n",
    "    \n",
    "    \n",
    "    # use the function test_predictor to evaluate the linear model predictor for test dataset\n",
    "    mse_test = test_predictor(expand_with_ones(X_test_std), y_test, \n",
    "                              lambda x: linear_model_predictor(expand_with_ones(X_test_std), W))\n",
    "    \n",
    "    return mse_train, mse_test\n",
    "    \n",
    "    ###################################################\n",
    "    ##### OUR CODE ENDS HERE #########################\n",
    "    ###################################################\n",
    "    \n",
    "    \n",
    "\n",
    "mse_train, mse_test = train_and_test(X_train, y_train, X_test, y_test)\n",
    "print('Linear Model')\n",
    "print('-----------------------\\n')\n",
    "print('MSE (Training) = %.4f' % mse_train)\n",
    "print('MSE (Testing)  = %.4f' % mse_test)\n"
   ]
  },
  {
   "cell_type": "markdown",
   "metadata": {
    "colab_type": "text",
    "id": "NTJw_BrzhRwi"
   },
   "source": [
    "We are now ready to report the learning curves.\n",
    "The task is to train the linear model on the increasingly more data ([20, 40, ..., 600] data records)\n",
    "and store the MSE of the trained model on the training data and the test data in the lists `mse_train_v` and `mse_test`, respectively. \n",
    "We have provided the code for generating the learning curves from `mse_train_v` and `mse_test`."
   ]
  },
  {
   "cell_type": "code",
   "execution_count": 13,
   "metadata": {
    "colab": {
     "base_uri": "https://localhost:8080/",
     "height": 279
    },
    "colab_type": "code",
    "executionInfo": {
     "elapsed": 1747,
     "status": "ok",
     "timestamp": 1596436129644,
     "user": {
      "displayName": "Haozhe Zhang",
      "photoUrl": "https://lh3.googleusercontent.com/a-/AOh14GhewCb1FImnjURCLugyfalL8wVXJomnuoEHUckN=s64",
      "userId": "15943369882491692800"
     },
     "user_tz": -480
    },
    "id": "jDsdh4T3hcIU",
    "outputId": "621c4890-1c55-4e9b-f28f-33d60907d8b9"
   },
   "outputs": [
    {
     "data": {
      "image/png": "[encoded data removed]",
      "text/plain": [
       "<Figure size 432x288 with 1 Axes>"
      ]
     },
     "metadata": {
      "needs_background": "light"
     },
     "output_type": "display_data"
    }
   ],
   "source": [
    "mse_train_v = []\n",
    "mse_test_v = []\n",
    "\n",
    "TRAINING_SIZE_MAX = 601\n",
    "TRAINING_SIZE_MIN = 20\n",
    "\n",
    "# compute the MSE over data with sizes from TRAINING_SIZE_MIN to TRAINING_SIZE_MAX with increasing step 20\n",
    "for train_size in range(TRAINING_SIZE_MIN, TRAINING_SIZE_MAX, 20):\n",
    "    # TODO: \n",
    "    #   1. use the first train_size data records from the X_train and y_train as the training data\n",
    "    #   2. train and compute the MSE on both training and test data using the train_and_test function\n",
    "    #   3. add the computed MSE to the lists mse_train_v and mse_test_v\n",
    "    \n",
    "    \n",
    "    ###################################################\n",
    "    ##### OUR CODE STARTS HERE #######################\n",
    "    ###################################################\n",
    "    \n",
    "    # call method to compute mse of the linear model predictor on both the training and test data\n",
    "    \n",
    "    mse_train, mse_test = train_and_test(X_train[:train_size,:], y_train[:train_size], X_test, y_test)\n",
    "    \n",
    "    mse_train_v.append(mse_train)\n",
    "    mse_test_v.append(mse_test)\n",
    "    \n",
    "    ###################################################\n",
    "    ##### OUR CODE ENDS HERE #########################\n",
    "    ###################################################\n",
    "    \n",
    "    \n",
    "\n",
    "# The below code generates the learning curves plot\n",
    "plt.figure(2)\n",
    "plt.plot(np.arange(TRAINING_SIZE_MIN, TRAINING_SIZE_MAX, 20), mse_train_v, 'r--', label=\"Training Error\")\n",
    "plt.plot(np.arange(TRAINING_SIZE_MIN, TRAINING_SIZE_MAX, 20), mse_test_v, 'b-', label=\"Test Error\")\n",
    "plt.xlabel('Dataset Size')\n",
    "plt.ylabel('Mean Squared Error')\n",
    "plt.legend()\n",
    "plt.show()"
   ]
  },
  {
   "cell_type": "markdown",
   "metadata": {},
   "source": [
    "### **Task 8**\n",
    "Explain whether you think the model is underfitting or not and how much data you need before getting the optimal test error."
   ]
  },
  {
   "cell_type": "markdown",
   "metadata": {
    "colab_type": "text",
    "id": "9A9VqDTzOdfd"
   },
   "source": [
    "### ############################################\n",
    "\n",
    "- Our model is underfitting in the beginning when dataset size is very small. \n",
    "- We can see that the test and train error plateau almost at the same level, after around 150 data points and at error slightly greater than 0.5. Training on more data doesn't seem to make much difference on mse.\n",
    "- So the model is a good fit after the dataset size crosses approximately 150 data points.\n",
    "- Therefore, we need dataset size to be approximately 150 to get the optimal test error.\n",
    "\n",
    "### ############################################"
   ]
  },
  {
   "cell_type": "markdown",
   "metadata": {
    "colab_type": "text",
    "id": "djpsaTu_kK3T"
   },
   "source": [
    "## Polynomial Basis Expansion and Regularisation\n",
    "\n",
    "In this part, we will try to improve the linear model by basis expansion and regularisation. \n",
    "\n",
    "The task is to \n",
    "1. apply the degree 2 basis expansion to the data, \n",
    "2. build the Ridge and Lasso models using scikit-learn, and\n",
    "3. perform hyperparameter optimization to find the optimal hyperparameter lambda. \n",
    "\n",
    "For the hyperparameter optimization, you should set the last 20% of the training data for the purpose of validation and \n",
    "try lambda values [10^-4, 10^-3, 10^-2, 10^-1, 1, 10, 100]. \n",
    "\n",
    "\n",
    "We will use the scikit-learn package. You can import other scikit-learn packages if you think they are useful. Read the documentation available here: http://scikit-learn.org/stable/modules/classes.html"
   ]
  },
  {
   "cell_type": "code",
   "execution_count": 14,
   "metadata": {
    "colab": {},
    "colab_type": "code",
    "id": "9TM0nkNbkhfM"
   },
   "outputs": [],
   "source": [
    "# import the preprocessing libs for standarization and basis expansion\n",
    "from sklearn.preprocessing import StandardScaler, PolynomialFeatures \n",
    "\n",
    "# Ridge and Lasso linear model\n",
    "from sklearn.linear_model import Ridge, Lasso "
   ]
  },
  {
   "cell_type": "markdown",
   "metadata": {
    "colab_type": "text",
    "id": "pCwBPuOXlRF7"
   },
   "source": [
    "### **Task 9**\n",
    "Let's implement the function for expanding the basis of the dataset. \n",
    "\n",
    "Hints: use `PolynomialFeatures`"
   ]
  },
  {
   "cell_type": "code",
   "execution_count": 15,
   "metadata": {
    "colab": {},
    "colab_type": "code",
    "id": "50azFolql1qA"
   },
   "outputs": [],
   "source": [
    "def expand_basis(X, degree):\n",
    "    # TODO: expand the basis of X for the input degree\n",
    "    # The code below is just for compilation. \n",
    "    # You need to replace it by your own code.\n",
    "    \n",
    "    \n",
    "    ###################################################\n",
    "    ##### OUR CODE STARTS HERE #######################\n",
    "    ###################################################\n",
    "    # Hints: use the function PolynomialFeatures\n",
    "    \n",
    "    poly = PolynomialFeatures(degree)\n",
    "    X_expanded = poly.fit_transform(X)\n",
    "    \n",
    "    return X_expanded\n",
    "    \n",
    "    \n",
    "    ###################################################\n",
    "    ##### OUR CODE ENDS HERE #########################\n",
    "    ###################################################\n",
    "    \n",
    "    \n",
    "    "
   ]
  },
  {
   "cell_type": "markdown",
   "metadata": {
    "colab_type": "text",
    "id": "6jwkPevimQri"
   },
   "source": [
    "### **Task 10**\n",
    "We need to expand and standardize the the data,\n",
    "and prepare the training, test and validation data on the expanded data. \n",
    "You should set the last 20% of the training data as the validation data.\n",
    "\n",
    "Hints: use `StandardScaler` and `std_scaler` to standardize the data"
   ]
  },
  {
   "cell_type": "code",
   "execution_count": 16,
   "metadata": {
    "colab": {},
    "colab_type": "code",
    "id": "dQCq4G9YmW7w",
    "scrolled": false
   },
   "outputs": [],
   "source": [
    "def prepare_data(X, y, degree):\n",
    "    # TODO: the training, test and validation data using the expanded dataset.\n",
    "    # The code below is just for compilation. \n",
    "    # You need to replace it by your own code.\n",
    "    \n",
    "    \n",
    "    ###################################################\n",
    "    ##### OUR CODE STARTS HERE #######################\n",
    "    ###################################################\n",
    "    # Hints: follow the steps     \n",
    "    # 1. split the data (X, y) into training data (X_train, y_train) and test data (X_test, y_test)\n",
    "    # 2. standardize the training data and do the same transformation to the test data\n",
    "    # 3. expand the basis of the training data and test data\n",
    "    # 4. split the expanded training data into training data (X_train_n, y_train_n) and validation data (X_train_v, y_train_v)\n",
    "    # 5. standardize the training data and do the same transformation to the validation data\n",
    "    \n",
    "    std_scaler = StandardScaler() # Standardize features by removing the mean and scaling to unit variance\n",
    "    \n",
    "    # 1. split the data into training and test data\n",
    "    X_train, y_train, X_test, y_test = split_data(X, y, 0.8)\n",
    "    \n",
    "    \n",
    "    # 2. standardize the training data and test data\n",
    "    X_train = std_scaler.fit_transform(X_train)\n",
    "    X_test = std_scaler.transform(X_test)\n",
    "    \n",
    "    \n",
    "    # 3. basis expansion of the training data and test data\n",
    "    X_train = expand_basis(X_train, degree)\n",
    "    X_test = expand_basis(X_test, degree)\n",
    "    \n",
    "    \n",
    "    # standardize the training data and test data\n",
    "    X_train = std_scaler.fit_transform(X_train)\n",
    "    X_test = std_scaler.transform(X_test)\n",
    "    \n",
    "    \n",
    "    # 4. split the expanded training data into training data (X_train_n, y_train_n) and validation data (X_train_v, y_train_v)\n",
    "    X_train_n, y_train_n, X_train_v, y_train_v = split_data(X_train, y_train, 0.8)\n",
    "    \n",
    "    \n",
    "    # 5. standardize the training data and validation data\n",
    "    X_train_n = std_scaler.fit_transform(X_train_n)\n",
    "    X_train_v = std_scaler.transform(X_train_v)\n",
    "   \n",
    "    \n",
    "    return X_train, y_train, X_train_n, y_train_n, X_train_v, y_train_v, X_test, y_test\n",
    "\n",
    "    ###################################################\n",
    "    ##### OUR CODE ENDS HERE #########################\n",
    "    ###################################################\n",
    "    \n",
    "\n",
    "X_train, y_train, X_train_n, y_train_n, X_train_v, y_train_v, X_test, y_test = prepare_data(X, y, 2) # here we expand the dataset with degree 2\n",
    "\n"
   ]
  },
  {
   "cell_type": "markdown",
   "metadata": {},
   "source": [
    "## **Why standardisation is required before basis expansion?**\n",
    "\n",
    "Assume we have a dataset with two features x1 and x2, where x1 has a small scale while x2 has a large scale. When we perform basis expansion, we  get a new feature x1x2. Since x2 has a larger scale than x1, it is likely x2 will contribute more to the value of the new feature x1x2, which means a bias is introduce here. \n",
    "The correct way is to standardise the features before the basis expansion. In this case x1 and x2 have the same scale, so they contribute same to the new feature x1x2, i.e. no bias is introduced. \n",
    "\n",
    "\n",
    "**Why standardise the training data in step 5?**\n",
    "\n",
    "Ridge and Lasso regularisation require the data to have mean of 0 and standard deviation of 1. However, after the basis expansion and splitting in step 4, the training data might not have the desired distribution, so we need to perform the standardisation on the training data. \n",
    "\n",
    " \n",
    "**Why not standardise both training and validation data together?**\n",
    "\n",
    "When we use validation data to chose the hyperparameters, we treat the validation data like the test data -- we should not assume we can access these data. So we should standardise the training data and perform the same operation to the validation data. "
   ]
  },
  {
   "cell_type": "markdown",
   "metadata": {
    "colab_type": "text",
    "id": "i3BxxtM3nghU"
   },
   "source": [
    "### **Task 11**\n",
    "We have prepared the training data and the validation data. We can now choose the hyperparameter lambda for Ridge and Lasso using the validation data. \n",
    "We use the Ridge and Lasso models from scikit-learn: https://scikit-learn.org/stable/modules/generated/sklearn.linear_model.Ridge.html\n",
    "\n",
    "We train Ridge or Lasso models with different lambda values and check their performance on the validation data.\n",
    "The lambda value that results the best performance is then the optimal lambda. "
   ]
  },
  {
   "cell_type": "code",
   "execution_count": 17,
   "metadata": {
    "colab": {
     "base_uri": "https://localhost:8080/",
     "height": 555
    },
    "colab_type": "code",
    "executionInfo": {
     "elapsed": 3266,
     "status": "ok",
     "timestamp": 1596436131187,
     "user": {
      "displayName": "Haozhe Zhang",
      "photoUrl": "https://lh3.googleusercontent.com/a-/AOh14GhewCb1FImnjURCLugyfalL8wVXJomnuoEHUckN=s64",
      "userId": "15943369882491692800"
     },
     "user_tz": -480
    },
    "id": "SvXcAGW1oHq1",
    "outputId": "25a38d1f-013f-4b0a-9cbb-3f08b68c0371"
   },
   "outputs": [
    {
     "data": {
      "image/png": "[encoded data removed]",
      "text/plain": [
       "<Figure size 432x288 with 1 Axes>"
      ]
     },
     "metadata": {
      "needs_background": "light"
     },
     "output_type": "display_data"
    },
    {
     "data": {
      "image/png": "[encoded data removed]",
      "text/plain": [
       "<Figure size 432x288 with 1 Axes>"
      ]
     },
     "metadata": {
      "needs_background": "light"
     },
     "output_type": "display_data"
    },
    {
     "name": "stdout",
     "output_type": "stream",
     "text": [
      "Ridge lambda: 1\n",
      "Lasso lambda: 0.001\n"
     ]
    }
   ],
   "source": [
    "# The function takes the training and validation data as inputs, and \n",
    "# returns the lambda value that results the minimal mse\n",
    "# We use is_ridge to indicate which the model is considered.\n",
    "# is_ridge = True indicates Ridge while is_ridge = False indicates Lasso\n",
    "def choose_hyper_param(X_train_n, y_train_n, X_train_v, y_train_v, is_ridge: bool):\n",
    "    mse_arr = []\n",
    "    lam_arr = []\n",
    "\n",
    "    # Try lambda values from 10^-4 to 10^2. \n",
    "    # Record the mse and the lambda values in mse_arr and lam_arr\n",
    "    # The code below is just for compilation. \n",
    "    # You need to replace it by your own code.\n",
    "    \n",
    "    ###################################################\n",
    "    ##### OUR CODE STARTS HERE #######################\n",
    "    ###################################################\n",
    "    \n",
    "    \n",
    "    for pow_lam in range(-4, 3):\n",
    "        lam = 10 ** pow_lam\n",
    "        \n",
    "        if is_ridge == True:\n",
    "\n",
    "            clf = Ridge(alpha=lam)               \n",
    "            clf.fit(X_train_n, y_train_n)                    # train Ridge model\n",
    "            y_predicted = clf.predict(X_train_v)             # predict values for validation data            \n",
    "            plt.title('Ridge regularization', fontsize = 15)\n",
    "            \n",
    "        else:\n",
    "            clf = Lasso(alpha=lam)               \n",
    "            clf.fit(X_train_n, y_train_n)                    # train Lasso model\n",
    "            y_predicted = clf.predict(X_train_v)             # predict values for validation data\n",
    "            plt.title('Lasso regularization', fontsize = 15)\n",
    "            \n",
    "            \n",
    "        mse_arr.append(np.mean((y_train_v-y_predicted)**2)) \n",
    "        lam_arr.append(lam)\n",
    "        \n",
    "    plt.xlabel('lambda', fontsize = 15)\n",
    "    plt.ylabel('mse', fontsize = 15)\n",
    "        \n",
    "        \n",
    "    ###################################################\n",
    "    ##### OUR CODE ENDS HERE #########################\n",
    "    ###################################################\n",
    "\n",
    "\n",
    "    # get the index of the lambda value that has the minimal use\n",
    "    lambda_idx_min = np.argmin(np.array(mse_arr))\n",
    "\n",
    "    # plot of the lambda values and their mse\n",
    "    #plt.figure()\n",
    "    plt.semilogx(lam_arr, mse_arr)\n",
    "    plt.show()\n",
    "    \n",
    "    \n",
    "    # return the optimal lambda value\n",
    "    return lam_arr[lambda_idx_min]\n",
    "\n",
    "# call the function to choose the lambda for Ridge and Lasso\n",
    "lam_ridge = choose_hyper_param(X_train_n, y_train_n, X_train_v, y_train_v, True)\n",
    "lam_lasso = choose_hyper_param(X_train_n, y_train_n, X_train_v, y_train_v, False)\n",
    "\n",
    "print(\"Ridge lambda:\", lam_ridge)\n",
    "print(\"Lasso lambda:\", lam_lasso)\n"
   ]
  },
  {
   "cell_type": "markdown",
   "metadata": {
    "colab_type": "text",
    "id": "FAuX0uU5k9qD"
   },
   "source": [
    "### **Task 12**:\n",
    "Once you’ve obtained the optimal lambdas for Ridge and Lasso, train these models using these lambdas on the full training data. Then report\n",
    "the training and test error."
   ]
  },
  {
   "cell_type": "code",
   "execution_count": 18,
   "metadata": {
    "colab": {
     "base_uri": "https://localhost:8080/",
     "height": 221
    },
    "colab_type": "code",
    "executionInfo": {
     "elapsed": 3259,
     "status": "ok",
     "timestamp": 1596436131187,
     "user": {
      "displayName": "Haozhe Zhang",
      "photoUrl": "https://lh3.googleusercontent.com/a-/AOh14GhewCb1FImnjURCLugyfalL8wVXJomnuoEHUckN=s64",
      "userId": "15943369882491692800"
     },
     "user_tz": -480
    },
    "id": "VmwHESkg77zK",
    "outputId": "9bb9c1cf-1649-40e6-9162-2244525d9446"
   },
   "outputs": [
    {
     "name": "stdout",
     "output_type": "stream",
     "text": [
      "For Ridge Regression with using degree 2 polynomial expansion and lambda = 1.0000\n",
      "--------------------------------------------------------------------------------\n",
      "\n",
      "MSE (Training) = 0.4952\n",
      "MSE (Testing)  = 0.5126\n",
      "\n",
      "\n",
      "For Lasso with using degree 2 polynomial expansion and lambda = 0.0010\n",
      "---------------------------------------------------------------------\n",
      "\n",
      "MSE (Training) = 0.4966\n",
      "MSE (Testing)  = 0.5101\n"
     ]
    }
   ],
   "source": [
    "# TODO: train the Ridge and Lasso models using the optimal parameters, and\n",
    "#       report their MSE\n",
    "\n",
    "\n",
    "###################################################\n",
    "##### OUR CODE STARTS HERE #######################\n",
    "###################################################\n",
    "# Hints: train these models on the full training data\n",
    "\n",
    "\n",
    "\n",
    "clf = Ridge(alpha=lam_ridge)               \n",
    "clf.fit(X_train, y_train)                                   # train Ridge model\n",
    "\n",
    "y_pred_train = clf.predict(X_train)                         # predict values for train data            \n",
    "mse_ridge_train = np.mean((y_train-y_pred_train)**2)        # mean squared error\n",
    "\n",
    "\n",
    "y_pred_test = clf.predict(X_test)                           # predict values for test data            \n",
    "mse_ridge_test = np.mean((y_test-y_pred_test)**2)           # mean squared error\n",
    "\n",
    "\n",
    "\n",
    "clf = Lasso(alpha=lam_lasso)               \n",
    "clf.fit(X_train, y_train)                                   # train Lasso model\n",
    "\n",
    "y_pred_train = clf.predict(X_train)                         # predict values for train data\n",
    "mse_lasso_train = np.mean((y_train-y_pred_train)**2)        # mean squared error\n",
    "\n",
    "\n",
    "y_pred_test = clf.predict(X_test)                           # predict values for test data\n",
    "mse_lasso_test = np.mean((y_test-y_pred_test)**2)           # mean squared error\n",
    "\n",
    "\n",
    "###################################################\n",
    "##### OUR CODE ENDS HERE #########################\n",
    "###################################################\n",
    "\n",
    "\n",
    "\n",
    "\n",
    "# Report the result\n",
    "print('For Ridge Regression with using degree %d polynomial expansion and lambda = %.4f' % (2, lam_ridge))\n",
    "print('--------------------------------------------------------------------------------\\n')\n",
    "print('MSE (Training) = %.4f' % mse_ridge_train)\n",
    "print('MSE (Testing)  = %.4f' % mse_ridge_test)\n",
    "\n",
    "print('\\n\\nFor Lasso with using degree %d polynomial expansion and lambda = %.4f' % (2, lam_lasso))\n",
    "print('---------------------------------------------------------------------\\n')\n",
    "print('MSE (Training) = %.4f' % mse_lasso_train)\n",
    "print('MSE (Testing)  = %.4f' % mse_lasso_test)"
   ]
  },
  {
   "cell_type": "markdown",
   "metadata": {
    "colab_type": "text",
    "id": "Os9tKKLd8gMU"
   },
   "source": [
    "## Optional: Try Larger Degrees using K-fold Cross Validation\n",
    "\n"
   ]
  },
  {
   "cell_type": "markdown",
   "metadata": {
    "colab_type": "text",
    "id": "sfqRAlv1PBXi"
   },
   "source": [
    "### **Task 13**\n",
    "This is an optional task, which worths 5 bonus poitns.\n",
    "\n",
    "The task is to try basis expansions with higher degrees (up to degree 4) and find the degree that results the best performance. \n",
    "Instead of always using the same validation set, you should use k-fold cross validation to find the optimal hyperparameters. \n",
    "You should report the optimal hyperparameters (the basis expansion degree and the lambdas) and the MSE of the Ridge and Lasso when you apply the optimal hyperparameters. \n",
    "\n",
    "Hints: Use `KFold` to do this automatically. "
   ]
  },
  {
   "cell_type": "code",
   "execution_count": 26,
   "metadata": {
    "colab": {},
    "colab_type": "code",
    "id": "kpwY7UtQ8l-0",
    "scrolled": false
   },
   "outputs": [
    {
     "name": "stdout",
     "output_type": "stream",
     "text": [
      "Optimal hyperparameter for Ridge Regression:\n",
      "--------------------------------------------------------------------------------\n",
      "\n",
      "Degree 2 polynomial expansion\n",
      "Lambda = 10.0000\n",
      "MSE  = 0.5389\n",
      "\n",
      "\n",
      "Optimal hyperparameter for Lasso Regression:\n",
      "--------------------------------------------------------------------------------\n",
      "\n",
      "Degree 2 polynomial expansion\n",
      "Lambda = 0.0010\n",
      "MSE  = 0.5377\n",
      "\n",
      "--------------------------------------------------------------------------------\n",
      "\n",
      "MSE when the optimal hyperparameters are applied:\n",
      "Ridge MSE: 0.5117\n",
      "Lasso MSE: 0.5098\n",
      "\n"
     ]
    }
   ],
   "source": [
    "# KFold\n",
    "from sklearn.model_selection import KFold\n",
    "\n",
    "# TODO: Try using higher degree basis expansion. Find the degree that gives the minimal mse. \n",
    "\n",
    "\n",
    "###################################################\n",
    "##### OUR CODE STARTS HERE #######################\n",
    "###################################################\n",
    "\n",
    "mse_Ridge_List = []\n",
    "mse_Lasso_List = []\n",
    "lam_Ridge_List = []\n",
    "lam_Lasso_List = []\n",
    "deg_Ridge_List = []\n",
    "deg_Lasso_List = []\n",
    "\n",
    "std_scaler = StandardScaler()\n",
    "\n",
    "\n",
    "# Get test dataset seperately\n",
    "X_train_full, y_train_full, X_test, y_test = split_data(X, y, 0.8)  \n",
    "\n",
    "# Standardize the train and test datasets\n",
    "X_train_full = std_scaler.fit_transform(X_train_full)\n",
    "X_test = std_scaler.transform(X_test)\n",
    "\n",
    "\n",
    "\n",
    "for d in range(1,5):                                       # for each degree d\n",
    "    \n",
    "    poly = PolynomialFeatures(d)                           # for basis expansion of degree d\n",
    "    kf = KFold(n_splits = 5, shuffle=False)                # Number of folds\n",
    "\n",
    "    for pow_lam in range(-4, 5):                           # for each lambda\n",
    "        \n",
    "        lam = 10 ** pow_lam\n",
    "        \n",
    "        mse_ridge_eachLam = []\n",
    "        mse_lasso_eachLam = []\n",
    "            \n",
    "        for train_index, val_index in kf.split(X_train_full):\n",
    "        \n",
    "            # split dataset\n",
    "            X_train, X_val, y_train, y_val = X[train_index], X[val_index], y[train_index], y[val_index]\n",
    "\n",
    "\n",
    "            # standardize the training data and validation data\n",
    "            X_train = std_scaler.fit_transform(X_train)\n",
    "            X_val = std_scaler.transform(X_val)\n",
    "\n",
    "            # Basis expansion\n",
    "            X_train = poly.fit_transform(X_train)\n",
    "            X_val = poly.fit_transform(X_val)\n",
    "\n",
    "            # standardize the training data and validation data\n",
    "            X_train = std_scaler.fit_transform(X_train)\n",
    "            X_val = std_scaler.transform(X_val)\n",
    "\n",
    "\n",
    "            clf_ridge = Ridge(alpha=lam)               \n",
    "            clf_ridge.fit(X_train, y_train)                             # train Ridge model\n",
    "            y_pred_ridge = clf_ridge.predict(X_val)                     # predict values for validation data            \n",
    "            \n",
    "            clf_lasso = Lasso(alpha=lam)               \n",
    "            clf_lasso.fit(X_train, y_train)                             # train Lasso model\n",
    "            y_pred_lasso = clf_lasso.predict(X_val)                     # predict values for validation data            \n",
    "            \n",
    "            mse_ridge_eachLam.append(np.mean((y_val-y_pred_ridge)**2))  # add mse to list for ridge model\n",
    "            mse_lasso_eachLam.append(np.mean((y_val-y_pred_lasso)**2))  # add mse to list for ridge model\n",
    "         \n",
    "            \n",
    "        # average mse of all folds for each lambda\n",
    "        mse_ridge_avg_eachLam = np.mean(mse_ridge_eachLam) \n",
    "        mse_lasso_avg_eachLam = np.mean(mse_lasso_eachLam)\n",
    "        \n",
    "        \n",
    "        # for Ridge regularization\n",
    "        mse_Ridge_List.append(mse_ridge_avg_eachLam)      # average mse for each lambda for Ridge regularization\n",
    "        lam_Ridge_List.append(lam)                        # lambda corresponding to average mse in mse_Ridge_List\n",
    "        deg_Ridge_List.append(d)                          # list of degrees\n",
    "\n",
    "        # for Lasso regularization\n",
    "        mse_Lasso_List.append(mse_lasso_avg_eachLam)      # average mse for each lambda for Lasso regularization\n",
    "        lam_Lasso_List.append(lam)                        # lambda corresponding to average mse in mse_Lasso_List\n",
    "        deg_Lasso_List.append(d)                          # list of degrees\n",
    "\n",
    "\n",
    "# Optimal hyperparameters for Ridge regularization\n",
    "i = np.argmin(mse_Ridge_List)                    # get index of minimum mse\n",
    "mse_ridge_test = mse_Ridge_List[i]               # minimum mse\n",
    "lam_ridge = lam_Ridge_List[i]                    # lambda corresponding to min mse\n",
    "d_ridge = deg_Ridge_List[i]                      # degree for which we get min mse\n",
    "\n",
    "# Optimal hyperparameters for Lasso regularization\n",
    "j = np.argmin(mse_Lasso_List)                    # get index of minimum mse\n",
    "mse_lasso_test = mse_Lasso_List[j]               # minimum mse\n",
    "lam_lasso = lam_Lasso_List[j]                    # lambda corresponding to min mse\n",
    "d_lasso = deg_Lasso_List[j]                      # degree for which we get min mse\n",
    "\n",
    "\n",
    "# Report the result\n",
    "print('Optimal hyperparameter for Ridge Regression:')\n",
    "print('--------------------------------------------------------------------------------\\n')\n",
    "print('Degree %d polynomial expansion' % d_ridge)\n",
    "print('Lambda = %.4f' % lam_ridge)\n",
    "print('MSE  = %.4f' % mse_ridge_test)\n",
    "\n",
    "print('\\n\\nOptimal hyperparameter for Lasso Regression:')\n",
    "print('--------------------------------------------------------------------------------\\n')\n",
    "print('Degree %d polynomial expansion' % d_lasso)\n",
    "print('Lambda = %.4f' % lam_lasso)\n",
    "print('MSE  = %.4f\\n' % mse_lasso_test)\n",
    "\n",
    "\n",
    "\n",
    "\n",
    "# Apply optimal degree and lambda on test dataset\n",
    "\n",
    "# Ridge regularization\n",
    "poly = PolynomialFeatures(d_ridge)\n",
    "X_train_ridge = poly.fit_transform(X_train_full)\n",
    "X_test_ridge = poly.fit_transform(X_test)\n",
    "clf_ridge = Ridge(alpha = lam_ridge)\n",
    "clf_ridge.fit(X_train_ridge, y_train_full)\n",
    "y_pred_ridge = clf_ridge.predict(X_test_ridge)\n",
    "mse_ridge =  np.mean((y_test-y_pred_ridge)**2)\n",
    "\n",
    "# Lasso regularization\n",
    "poly = PolynomialFeatures(d_lasso)\n",
    "X_train_lasso = poly.fit_transform(X_train_full)\n",
    "X_test_lasso = poly.fit_transform(X_test)\n",
    "clf_lasso = Lasso(alpha = lam_lasso)\n",
    "clf_lasso.fit(X_train_lasso, y_train_full)\n",
    "y_pred_lasso = clf_lasso.predict(X_test_lasso)\n",
    "mse_lasso =  np.mean((y_test-y_pred_lasso)**2)\n",
    "\n",
    "\n",
    "print('--------------------------------------------------------------------------------\\n')\n",
    "print(\"MSE when the optimal hyperparameters are applied:\")\n",
    "print(\"Ridge MSE: %.4f\" % mse_ridge)\n",
    "print(\"Lasso MSE: %.4f\\n\" % mse_lasso)\n",
    "\n",
    "\n",
    "###################################################\n",
    "##### OUR CODE ENDS HERE #########################\n",
    "###################################################\n",
    "\n"
   ]
  },
  {
   "cell_type": "code",
   "execution_count": null,
   "metadata": {},
   "outputs": [],
   "source": []
  }
 ],
 "metadata": {
  "colab": {
   "authorship_tag": "ABX9TyP96ktvsOI4PiuW52tcNLjx",
   "collapsed_sections": [],
   "name": "Practical1_starter.ipynb",
   "provenance": [],
   "toc_visible": true
  },
  "kernelspec": {
   "display_name": "Python 3 (ipykernel)",
   "language": "python",
   "name": "python3"
  },
  "language_info": {
   "codemirror_mode": {
    "name": "ipython",
    "version": 3
   },
   "file_extension": ".py",
   "mimetype": "text/x-python",
   "name": "python",
   "nbconvert_exporter": "python",
   "pygments_lexer": "ipython3",
   "version": "3.9.7"
  }
 },
 "nbformat": 4,
 "nbformat_minor": 4
}
